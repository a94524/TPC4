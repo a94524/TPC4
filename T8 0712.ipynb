{
 "cells": [
  {
   "cell_type": "markdown",
   "metadata": {},
   "source": [
    "## Aula Teórica 8: Manipulação de estruturas de dados"
   ]
  },
  {
   "cell_type": "markdown",
   "metadata": {},
   "source": [
    "## Extrair as chaves"
   ]
  },
  {
   "cell_type": "code",
   "execution_count": 1,
   "metadata": {},
   "outputs": [
    {
     "name": "stdout",
     "output_type": "stream",
     "text": [
      "<class 'dict_keys'>\n",
      "dict_keys(['LCC', 'ENGBIOM', 'LEI', 'ENGFIS'])\n"
     ]
    }
   ],
   "source": [
    "distrib = {\"LCC\": 23, \"ENGBIOM\":35, \"LEI\":32, \"ENGFIS\":17}\n",
    "chaves = distrib.keys()\n",
    "print(type(chaves))\n",
    "print(chaves)"
   ]
  },
  {
   "cell_type": "markdown",
   "metadata": {},
   "source": [
    "## Extrair os valores"
   ]
  },
  {
   "cell_type": "code",
   "execution_count": 3,
   "metadata": {},
   "outputs": [
    {
     "name": "stdout",
     "output_type": "stream",
     "text": [
      "<class 'dict_values'>\n",
      "dict_values([23, 35, 32, 17])\n"
     ]
    }
   ],
   "source": [
    "distrib = {\"LCC\": 23, \"ENGBIOM\":35, \"LEI\":32, \"ENGFIS\":17}\n",
    "chaves = distrib.values()\n",
    "print(type(chaves))\n",
    "print(chaves)"
   ]
  },
  {
   "cell_type": "markdown",
   "metadata": {},
   "source": [
    "**Concatenar dicionários**"
   ]
  },
  {
   "cell_type": "code",
   "execution_count": 4,
   "metadata": {},
   "outputs": [
    {
     "name": "stdout",
     "output_type": "stream",
     "text": [
      "{'cenouras': 6, 'batatas': 20, 'cebolas': 12, 'tangerina': 30, 'pêras': 8, 'bananas': 6, 'romãs': 2, 'fiambre': 10, 'queijo': 16, 'chouriço': 1}\n"
     ]
    }
   ],
   "source": [
    "legumes={\"cenouras\": 6, \"batatas\": 20, \"cebolas\": 12}\n",
    "frutas= {\"tangerina\": 30, \"pêras\": 8, \"bananas\": 6, \"romãs\": 2}\n",
    "charcutaria= {\"fiambre\": 10, \"queijo\": 16, \"chouriço\": 1}\n",
    "listaCompras={}\n",
    "for par in (legumes, frutas,charcutaria): listaCompras.update(par)\n",
    "print(listaCompras)"
   ]
  },
  {
   "cell_type": "code",
   "execution_count": 5,
   "metadata": {},
   "outputs": [
    {
     "name": "stdout",
     "output_type": "stream",
     "text": [
      "{'cenouras': 6, 'batatas': 20, 'cebolas': 12, 'tangerina': 30, 'pêras': 8, 'bananas': 6, 'romãs': 2, 'fiambre': 10, 'queijo': 16, 'chouriço': 1}\n"
     ]
    }
   ],
   "source": [
    "legumes={\"cenouras\": 6, \"batatas\": 20, \"cebolas\": 12}\n",
    "frutas= {\"tangerina\": 30, \"pêras\": 8, \"bananas\": 6, \"romãs\": 2}\n",
    "charcutaria= {\"fiambre\": 10, \"queijo\": 16, \"chouriço\": 1}\n",
    "listaCompras= legumes.copy()\n",
    "listaCompras.update(frutas)\n",
    "listaCompras.update(charcutaria)\n",
    "print(listaCompras)"
   ]
  },
  {
   "cell_type": "code",
   "execution_count": 9,
   "metadata": {},
   "outputs": [
    {
     "name": "stdout",
     "output_type": "stream",
     "text": [
      "{'cenouras': 6, 'batatas': 20, 'cebolas': 12, 'tangerina': 30, 'pêras': 8, 'bananas': 6, 'romãs': 2, 'fiambre': 10, 'queijo': 16, 'chouriço': 1}\n"
     ]
    }
   ],
   "source": [
    "legumes={\"cenouras\": 6, \"batatas\": 20, \"cebolas\": 12}\n",
    "frutas= {\"tangerina\": 30, \"pêras\": 8, \"bananas\": 6, \"romãs\": 2}\n",
    "charcutaria= {\"fiambre\": 10, \"queijo\": 16, \"chouriço\": 1}\n",
    "listaCompras={}\n",
    "for chave in legumes.keys():\n",
    "    listaCompras[chave]=legumes[chave]\n",
    "for chave in frutas.keys():\n",
    "    listaCompras[chave]=frutas[chave]\n",
    "for chave in charcutaria.keys():\n",
    "    listaCompras[chave]=charcutaria[chave]\n",
    "print(listaCompras)"
   ]
  },
  {
   "cell_type": "markdown",
   "metadata": {},
   "source": [
    "# Ordenar dicionários"
   ]
  },
  {
   "cell_type": "markdown",
   "metadata": {},
   "source": [
    "**Por valor**"
   ]
  },
  {
   "cell_type": "code",
   "execution_count": 12,
   "metadata": {},
   "outputs": [
    {
     "name": "stdout",
     "output_type": "stream",
     "text": [
      "dict_items([('cenouras', 6), ('batatas', 20), ('cebolas', 12), ('tangerina', 30), ('pêras', 8), ('bananas', 6), ('romãs', 2), ('fiambre', 10), ('queijo', 16), ('chouriço', 1)])\n",
      "{'chouriço': 1, 'romãs': 2, 'cenouras': 6, 'bananas': 6, 'pêras': 8, 'fiambre': 10, 'cebolas': 12, 'queijo': 16, 'batatas': 20, 'tangerina': 30}\n"
     ]
    }
   ],
   "source": [
    "#sort - altera a estrutura de dados\n",
    "#sorted - devolve uma nova estrutura de dados \n",
    "print(listaCompras.items())\n",
    "valores= sorted(listaCompras.items(), key = lambda x: x[1]) #LAMBDA arg, arg, arg: expressão que é retornada\n",
    "novoDict= dict(valores)\n",
    "print(novoDict)"
   ]
  },
  {
   "cell_type": "code",
   "execution_count": 14,
   "metadata": {},
   "outputs": [
    {
     "name": "stdout",
     "output_type": "stream",
     "text": [
      "{'chouriço': 1, 'romãs': 2, 'cenouras': 6, 'bananas': 6, 'pêras': 8, 'fiambre': 10, 'cebolas': 12, 'queijo': 16, 'batatas': 20, 'tangerina': 30}\n"
     ]
    }
   ],
   "source": [
    "valores= list(listaCompras.items())\n",
    "valores.sort(key = lambda x: x[1])\n",
    "novoDict= dict(valores)\n",
    "print(novoDict)"
   ]
  },
  {
   "cell_type": "markdown",
   "metadata": {},
   "source": [
    "**Por chaves**"
   ]
  },
  {
   "cell_type": "code",
   "execution_count": 16,
   "metadata": {},
   "outputs": [
    {
     "name": "stdout",
     "output_type": "stream",
     "text": [
      "[('bananas', 6), ('batatas', 20), ('cebolas', 12), ('cenouras', 6), ('chouriço', 1), ('fiambre', 10), ('pêras', 8), ('queijo', 16), ('romãs', 2), ('tangerina', 30)]\n"
     ]
    }
   ],
   "source": [
    "def ordenaChaves(par):\n",
    "    return par[0]\n",
    "chaves=sorted(listaCompras.items(), key=ordenaChaves)\n",
    "print(chaves)"
   ]
  },
  {
   "cell_type": "markdown",
   "metadata": {},
   "source": [
    "Verificar se uma chave está no dicionário"
   ]
  },
  {
   "cell_type": "code",
   "execution_count": 19,
   "metadata": {},
   "outputs": [],
   "source": [
    "def pertenceChave(c,d):\n",
    "    return True if c in d else False"
   ]
  },
  {
   "cell_type": "code",
   "execution_count": 17,
   "metadata": {},
   "outputs": [
    {
     "name": "stdout",
     "output_type": "stream",
     "text": [
      "False\n",
      "True\n",
      "False\n",
      "True\n",
      "False\n",
      "True\n",
      "False\n",
      "True\n",
      "False\n"
     ]
    }
   ],
   "source": [
    "def ePar(n): \n",
    "    return True if n%2==0 else False\n",
    "\n",
    "for i in range(1,10):\n",
    "    print(ePar(i))"
   ]
  },
  {
   "cell_type": "code",
   "execution_count": 20,
   "metadata": {},
   "outputs": [
    {
     "name": "stdout",
     "output_type": "stream",
     "text": [
      "True\n",
      "beterrabas {'cenouras': 6, 'batatas': 20, 'cebolas': 12, 'tangerina': 30, 'pêras': 8, 'bananas': 6, 'romãs': 2, 'fiambre': 10, 'queijo': 16, 'chouriço': 1}\n"
     ]
    }
   ],
   "source": [
    "print(pertenceChave(\"bananas\", listaCompras))\n",
    "print(\"beterrabas\", listaCompras)"
   ]
  },
  {
   "cell_type": "markdown",
   "metadata": {},
   "source": [
    "Exercício:"
   ]
  },
  {
   "cell_type": "code",
   "execution_count": 23,
   "metadata": {},
   "outputs": [
    {
     "name": "stdout",
     "output_type": "stream",
     "text": [
      "Introduza um número inteiro positivo80\n",
      "{1: 1, 2: 4, 3: 9, 4: 16, 5: 25, 6: 36, 7: 49, 8: 64, 9: 81, 10: 100, 11: 121, 12: 144, 13: 169, 14: 196, 15: 225, 16: 256, 17: 289, 18: 324, 19: 361, 20: 400, 21: 441, 22: 484, 23: 529, 24: 576, 25: 625, 26: 676, 27: 729, 28: 784, 29: 841, 30: 900, 31: 961, 32: 1024, 33: 1089, 34: 1156, 35: 1225, 36: 1296, 37: 1369, 38: 1444, 39: 1521, 40: 1600, 41: 1681, 42: 1764, 43: 1849, 44: 1936, 45: 2025, 46: 2116, 47: 2209, 48: 2304, 49: 2401, 50: 2500, 51: 2601, 52: 2704, 53: 2809, 54: 2916, 55: 3025, 56: 3136, 57: 3249, 58: 3364, 59: 3481, 60: 3600, 61: 3721, 62: 3844, 63: 3969, 64: 4096, 65: 4225, 66: 4356, 67: 4489, 68: 4624, 69: 4761, 70: 4900, 71: 5041, 72: 5184, 73: 5329, 74: 5476, 75: 5625, 76: 5776, 77: 5929, 78: 6084, 79: 6241, 80: 6400}\n"
     ]
    }
   ],
   "source": [
    "numero= int(input(\"Introduza um número inteiro positivo\"))\n",
    "dic = {}\n",
    "for i in range(1,numero+1):\n",
    "    dic[i]=i*i\n",
    "print(dic)"
   ]
  },
  {
   "cell_type": "code",
   "execution_count": 33,
   "metadata": {},
   "outputs": [
    {
     "data": {
      "text/plain": [
       "[{'instrumento': 'clarinete', 'musicos': ['Ana']},\n",
       " {'instrumento': 'flauta', 'musicos': ['Ana', 'Carlos']},\n",
       " {'instrumento': 'piano', 'musicos': ['Carlos', 'Paulina']},\n",
       " {'instrumento': 'saxofone', 'musicos': ['Carlos', 'Paulina']},\n",
       " {'instrumento': 'trompete', 'musicos': ['Ana']},\n",
       " {'instrumento': 'violino', 'musicos': ['Paulina']}]"
      ]
     },
     "execution_count": 33,
     "metadata": {},
     "output_type": "execute_result"
    }
   ],
   "source": [
    "escola= [\n",
    "    {\n",
    "        \"nome\":\"Ana\",\n",
    "        \"instrumentos\": [\"trompete\", \"clarinete\", \"flauta\"]\n",
    "    },\n",
    "    {\n",
    "        \"nome\":\"Carlos\",\n",
    "        \"instrumentos\": [\"saxofone\",  \"flauta\",\"piano\"]\n",
    "    },\n",
    "    {\n",
    "        \"nome\":\"Paulina\",\n",
    "        \"instrumentos\": [\"saxofone\", \"violino\", \"piano\"]\n",
    "    },\n",
    "]\n",
    "\n",
    "def calcLista(esc):\n",
    "    instrumentos=[]\n",
    "    for a in esc:\n",
    "        for i in a[\"instrumentos\"]:\n",
    "            if i not in instrumentos:\n",
    "                instrumentos.append(i)\n",
    "    instrumentos.sort()\n",
    "    return instrumentos\n",
    "\n",
    "def calcListaMusicos(esc, i):\n",
    "    musicos=[]\n",
    "    for a in esc:\n",
    "        if i in a[\"instrumentos\"]:\n",
    "            musicos.append(a[\"nome\"])\n",
    "    return musicos\n",
    "\n",
    "def indInstrumentos(esc):\n",
    "    indiceInstrumentos=[]\n",
    "    listaInst = calcLista(esc)\n",
    "    for i in listaInst:\n",
    "        indiceInstrumentos.append({\n",
    "            \"instrumento\": i,\n",
    "            \"musicos\":calcListaMusicos(esc, i)\n",
    "        })\n",
    "    return indiceInstrumentos\n",
    "            \n",
    "indInstrumentos(escola)"
   ]
  },
  {
   "cell_type": "code",
   "execution_count": 26,
   "metadata": {},
   "outputs": [
    {
     "name": "stdout",
     "output_type": "stream",
     "text": [
      "['clarinete', 'flauta', 'piano', 'saxofone', 'trompete', 'violino']\n"
     ]
    }
   ],
   "source": [
    "print(calcLista(escola))\n"
   ]
  },
  {
   "cell_type": "code",
   "execution_count": null,
   "metadata": {},
   "outputs": [],
   "source": []
  }
 ],
 "metadata": {
  "kernelspec": {
   "display_name": "Python 3",
   "language": "python",
   "name": "python3"
  },
  "language_info": {
   "codemirror_mode": {
    "name": "ipython",
    "version": 3
   },
   "file_extension": ".py",
   "mimetype": "text/x-python",
   "name": "python",
   "nbconvert_exporter": "python",
   "pygments_lexer": "ipython3",
   "version": "3.8.3"
  }
 },
 "nbformat": 4,
 "nbformat_minor": 4
}
