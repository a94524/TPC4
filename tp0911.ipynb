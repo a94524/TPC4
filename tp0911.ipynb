{
 "cells": [
  {
   "cell_type": "markdown",
   "metadata": {},
   "source": [
    "## Polinómios"
   ]
  },
  {
   "cell_type": "markdown",
   "metadata": {},
   "source": [
    "Definição do modelo"
   ]
  },
  {
   "cell_type": "markdown",
   "metadata": {},
   "source": [
    "x^2 + 2\n",
    "7x^3 + 4x - 21"
   ]
  },
  {
   "cell_type": "code",
   "execution_count": 20,
   "metadata": {},
   "outputs": [],
   "source": [
    "p1 = [(1,2),(2,0)]\n",
    "p2 = [(7,3),(4,1),(-21,0)]\n"
   ]
  },
  {
   "cell_type": "markdown",
   "metadata": {},
   "source": [
    "Construtor"
   ]
  },
  {
   "cell_type": "code",
   "execution_count": 21,
   "metadata": {},
   "outputs": [],
   "source": [
    "def criarTermo(coef,exp):\n",
    "    return (coef, exp)\n",
    "def criarPolinomio():\n",
    "    return []\n",
    "def inserirTermo(p,t):\n",
    "    return p.append(t)\n",
    "    \n",
    "    "
   ]
  },
  {
   "cell_type": "code",
   "execution_count": 23,
   "metadata": {},
   "outputs": [
    {
     "name": "stdout",
     "output_type": "stream",
     "text": [
      "[(1, 2), (2, 0), (4, 3), (4, 3)]\n"
     ]
    }
   ],
   "source": [
    "inserirTermo(p1, criarTermo(4,3))\n",
    "print(p1)"
   ]
  },
  {
   "cell_type": "code",
   "execution_count": 37,
   "metadata": {},
   "outputs": [],
   "source": [
    "def verTermo(t):\n",
    "    c, e = t\n",
    "    if e==0:\n",
    "        return str(c)\n",
    "    else:\n",
    "        return (str(c)+\"x^\"+str(e))\n",
    "    \n",
    "def verPolinomio(p):\n",
    "    res = \"\"\n",
    "    for t in p:\n",
    "        if res == '':\n",
    "            res = verTermo(t)\n",
    "        else:\n",
    "            res = res + \" + \" + verTermo(t)\n",
    "    print(res)   \n",
    "        \n",
    "        "
   ]
  },
  {
   "cell_type": "code",
   "execution_count": 38,
   "metadata": {},
   "outputs": [
    {
     "name": "stdout",
     "output_type": "stream",
     "text": [
      "1x^2 + 2 + 4x^3 + 4x^3\n"
     ]
    }
   ],
   "source": [
    "verPolinomio(p1)"
   ]
  },
  {
   "cell_type": "code",
   "execution_count": 50,
   "metadata": {},
   "outputs": [],
   "source": [
    "p4 = [(2,3),(-1,2),(25,0)]\n",
    "def calcPol(p,x):\n",
    "    res=0\n",
    "    for t in p:\n",
    "        c, e = t\n",
    "        res=res+(c*(x**e))\n",
    "    return res"
   ]
  },
  {
   "cell_type": "code",
   "execution_count": 62,
   "metadata": {},
   "outputs": [],
   "source": [
    "def tabela (p, n):\n",
    "    print(\"X: \",\"Y\")\n",
    "    for x in range(n+1):\n",
    "        print (str(x),'::',str(calcPol(p,x)))"
   ]
  },
  {
   "cell_type": "code",
   "execution_count": 63,
   "metadata": {},
   "outputs": [
    {
     "name": "stdout",
     "output_type": "stream",
     "text": [
      "X:  Y\n",
      "0 :: 25\n",
      "1 :: 26\n",
      "2 :: 37\n",
      "3 :: 70\n",
      "4 :: 137\n",
      "5 :: 250\n",
      "6 :: 421\n",
      "7 :: 662\n",
      "8 :: 985\n",
      "9 :: 1402\n",
      "10 :: 1925\n",
      "11 :: 2566\n",
      "12 :: 3337\n",
      "13 :: 4250\n",
      "14 :: 5317\n",
      "15 :: 6550\n",
      "16 :: 7961\n",
      "17 :: 9562\n",
      "18 :: 11365\n",
      "19 :: 13382\n",
      "20 :: 15625\n"
     ]
    }
   ],
   "source": [
    "tabela(p4,20)"
   ]
  },
  {
   "cell_type": "code",
   "execution_count": 66,
   "metadata": {},
   "outputs": [
    {
     "name": "stdout",
     "output_type": "stream",
     "text": [
      "[(3, 2), (1, 2), (-5, 3), (4, 2), (5, 0), (-7, 0), (1, 1)]\n",
      "[(-5, 3), (3, 2), (1, 2), (4, 2), (1, 1), (5, 0), (-7, 0)]\n",
      "-5x^3 + 3x^2 + 1x^2 + 4x^2 + 1x^1 + 5 + -7\n"
     ]
    }
   ],
   "source": [
    "p5=[(3,2),(1,2),(-5,3),(4,2),(5,0),(-7,0),(1,1)]\n",
    "def chaveOrd(t):\n",
    "    _,e=t\n",
    "    return e\n",
    "        \n",
    "def ordenarPol(p):\n",
    "    p.sort(reverse=True, key=chaveOrd)\n",
    "print(p5)\n",
    "ordenarPol(p5)\n",
    "print(p5)\n",
    "verPolinomio(p5)\n",
    "        "
   ]
  },
  {
   "cell_type": "markdown",
   "metadata": {},
   "source": [
    "App\n",
    "(1)Criar Polinómio\n",
    "(2)Calcular Polínomio\n",
    "(3)Calcular Tabela\n",
    "(4)Simplificar Polinómio\n",
    "(5)Calcular derivada do polinómio\n",
    "(0)sair"
   ]
  },
  {
   "cell_type": "code",
   "execution_count": null,
   "metadata": {},
   "outputs": [],
   "source": [
    "def simplificarPol(p):\n",
    "    p5=ordenarPol(p)\n",
    "    novo=[]\n",
    "    while i"
   ]
  },
  {
   "cell_type": "code",
   "execution_count": 77,
   "metadata": {},
   "outputs": [],
   "source": [
    "def derivarPol(p):\n",
    "    res= []\n",
    "    for t in p:\n",
    "        c, e = t\n",
    "        if e>0:\n",
    "            res.append((c*e, e-1))\n",
    "    return res\n",
    "    "
   ]
  },
  {
   "cell_type": "code",
   "execution_count": 81,
   "metadata": {},
   "outputs": [
    {
     "name": "stdout",
     "output_type": "stream",
     "text": [
      "-5x^3 + 3x^2 + 1x^2 + 4x^2 + 1x^1 + 5 + -7\n",
      "-15x^2 + 6x^1 + 2x^1 + 8x^1 + 1\n",
      "-30x^1 + 6 + 2 + 8\n"
     ]
    }
   ],
   "source": [
    "verPolinomio(p5)\n",
    "p6=derivarPol(p5)\n",
    "verPolinomio(p6)\n",
    "p7=derivarPol(derivarPol(p5))\n",
    "simplificarPol(p7)\n",
    "verPolinomio(p7)"
   ]
  },
  {
   "cell_type": "code",
   "execution_count": null,
   "metadata": {},
   "outputs": [],
   "source": []
  }
 ],
 "metadata": {
  "kernelspec": {
   "display_name": "Python 3",
   "language": "python",
   "name": "python3"
  },
  "language_info": {
   "codemirror_mode": {
    "name": "ipython",
    "version": 3
   },
   "file_extension": ".py",
   "mimetype": "text/x-python",
   "name": "python",
   "nbconvert_exporter": "python",
   "pygments_lexer": "ipython3",
   "version": "3.8.3"
  }
 },
 "nbformat": 4,
 "nbformat_minor": 4
}
