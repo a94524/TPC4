{
 "cells": [
  {
   "cell_type": "markdown",
   "metadata": {},
   "source": [
    "# Ficha técnica\n",
    "\n",
    "__identificador__: aulaP8;\n",
    "\n",
    "__título__: Processamento de datasets;\n",
    "\n",
    "__data início__: 2021-11-29;\n",
    "\n",
    "__autor__: José Carlos Ramalho, D1513;\n",
    "\n",
    "__resumo__: Nesta aula, irás fazer exercícios sobre leitura de datasets, seu processamento e produção de dados estatísticos."
   ]
  },
  {
   "cell_type": "markdown",
   "metadata": {},
   "source": [
    "## Dataset\n",
    "\n",
    "Para a resolução dos exercícios desta ficha, descarrega o dataset de exames médicos desportivos do site da UC.\n",
    "\n",
    "### Estrutura do dataset\n",
    "O dataset tem a seguinte estrutura:\n",
    "\n",
    "```\n",
    "_id,index,dataEMD,nome/primeiro,nome/último,idade,género,morada,modalidade,clube,email,federado,resultado\n",
    "6045074cd77860ac9483d34e,0,2020-02-25,Delgado,Gay,28,F,Gloucester,BTT,ACRroriz,delgado.gay@acrroriz.biz,true,true\n",
    "6045074ca6adebd591b5d239,1,2019-07-31,Foreman,Prince,34,M,Forestburg,Ciclismo,ACDRcrespos,foreman.prince@acdrcrespos.org,false,true\n",
    "6045074c221e2fdf430e9ef0,2,2021-01-06,Cheryl,Berger,21,M,Umapine,Basquetebol,Vitoria,cheryl.berger@vitoria.biz,false,true\n",
    "6045074c529cbdce549d3923,3,2020-11-19,Graves,Goff,29,F,Babb,Andebol,AVCfamalicão,graves.goff@avcfamalicão.co.uk,false,false\n",
    "6045074c3319a0f9e79aad87,4,2019-09-01,Mckay,Bolton,29,F,Chilton,Futebol,ACDRcrespos,mckay.bolton@acdrcrespos.me,false,false\n",
    "6045074c222607e7520ffd24,5,2019-10-07,Marla,Kelley,22,M,Clarence,Atletismo,AmigosMontanha,marla.kelley@amigosmontanha.tv,false,false\n",
    "\n",
    "...\n",
    "```"
   ]
  },
  {
   "cell_type": "markdown",
   "metadata": {},
   "source": [
    "## Leitura (exercício 1)\n",
    "\n",
    "Depois de pensares num modelo adequado especifica a função que lê o ficheiro e povoa esse modelo.\n",
    "\n",
    "Nota: os valores do campo id são demasiado complexos para serem usados na aplicação pelo utilizador.\n",
    "\n",
    "Ideia: Cria ids novos, mais simples, tipo: emd00001, emd00002, ..., emd00100, ..."
   ]
  },
  {
   "cell_type": "code",
   "execution_count": 1,
   "metadata": {},
   "outputs": [],
   "source": [
    "def getEMD(texto):\n",
    "    novoTexto=texto.replace('\\n','')\n",
    "    EMD=[]\n",
    "    dados=novoTexto.split(\",\")\n",
    "    for i in range(len(dados)):\n",
    "        EMD.append(dados[i])\n",
    "    EMD.pop(1)\n",
    "    return EMD\n",
    "    \n",
    "    \n",
    "    \n",
    "def lerDataset(fnome):\n",
    "    f = open(fnome, encoding=\"utf-8\")\n",
    "    bd = []\n",
    "    f=open(fnome, encoding=\"utf-8\")\n",
    "    bd = []\n",
    "    f.readline()\n",
    "    for linha in f:\n",
    "        bd.append(getEMD(linha))\n",
    "    for i in range(len(bd)):\n",
    "        bd[i][0]='emd'+str(i+1)\n",
    "    return bd\n",
    "\n"
   ]
  },
  {
   "cell_type": "code",
   "execution_count": 2,
   "metadata": {},
   "outputs": [
    {
     "name": "stdout",
     "output_type": "stream",
     "text": [
      "[['emd1', '2020-02-25', 'Delgado', 'Gay', '28', 'F', 'Gloucester', 'BTT', 'ACRroriz', 'delgado.gay@acrroriz.biz', 'true', 'true'], ['emd2', '2019-07-31', 'Foreman', 'Prince', '34', 'M', 'Forestburg', 'Ciclismo', 'ACDRcrespos', 'foreman.prince@acdrcrespos.org', 'false', 'true'], ['emd3', '2021-01-06', 'Cheryl', 'Berger', '21', 'M', 'Umapine', 'Basquetebol', 'Vitoria', 'cheryl.berger@vitoria.biz', 'false', 'true'], ['emd4', '2020-11-19', 'Graves', 'Goff', '29', 'F', 'Babb', 'Andebol', 'AVCfamalicão', 'graves.goff@avcfamalicão.co.uk', 'false', 'false'], ['emd5', '2019-09-01', 'Mckay', 'Bolton', '29', 'F', 'Chilton', 'Futebol', 'ACDRcrespos', 'mckay.bolton@acdrcrespos.me', 'false', 'false'], ['emd6', '2019-10-07', 'Marla', 'Kelley', '22', 'M', 'Clarence', 'Atletismo', 'AmigosMontanha', 'marla.kelley@amigosmontanha.tv', 'false', 'false'], ['emd7', '2020-12-11', 'Merrill', 'Maddox', '34', 'M', 'Roderfield', 'Equitação', 'ACRroriz', 'merrill.maddox@acrroriz.com', 'false', 'true'], ['emd8', '2019-03-12', 'Nikki', 'Calderon', '22', 'F', 'Brethren', 'Patinagem', 'EDViana', 'nikki.calderon@edviana.name', 'true', 'false'], ['emd9', '2020-12-09', 'Lucia', 'Bright', '35', 'F', 'Onton', 'Orientação', 'GDGoma', 'lucia.bright@gdgoma.info', 'true', 'false'], ['emd10', '2020-01-26', 'Faith', 'Wells', '31', 'F', 'Grantville', 'Basquetebol', 'EDViana', 'faith.wells@edviana.ca', 'true', 'true'], ['emd11', '2019-03-29', 'Milagros', 'Osborn', '22', 'M', 'Dunlo', 'Patinagem', 'GDGoma', 'milagros.osborn@gdgoma.io', 'false', 'false'], ['emd12', '2019-09-08', 'Valentine', 'Sellers', '27', 'F', 'Odessa', 'Patinagem', 'EDViana', 'valentine.sellers@edviana.net', 'true', 'true'], ['emd13', '2019-05-10', 'Martha', 'Hyde', '26', 'M', 'Dupuyer', 'Triatlo', 'Vitoria', 'martha.hyde@vitoria.biz', 'false', 'false'], ['emd14', '2019-04-22', 'Beck', 'Stevenson', '35', 'F', 'Barclay', 'Dança', 'SCBraga', 'beck.stevenson@scbraga.org', 'true', 'false'], ['emd15', '2019-05-05', 'Lester', 'Strong', '21', 'M', 'Freetown', 'Patinagem', 'GDGoma', 'lester.strong@gdgoma.biz', 'false', 'false'], ['emd16', '2020-03-19', 'Sharon', 'Bradley', '30', 'M', 'Hiseville', 'Futebol', 'AVCfamalicão', 'sharon.bradley@avcfamalicão.co.uk', 'true', 'false'], ['emd17', '2019-07-30', 'Waters', 'Dale', '32', 'M', 'Bakersville', 'Andebol', 'ABCbraga', 'waters.dale@abcbraga.me', 'false', 'false'], ['emd18', '2019-07-27', 'Rebekah', 'Mayer', '32', 'F', 'Woodlake', 'Atletismo', 'ABCbraga', 'rebekah.mayer@abcbraga.tv', 'false', 'false'], ['emd19', '2020-04-19', 'Isabella', 'Howell', '28', 'M', 'Hanover', 'Basquetebol', 'AVCfamalicão', 'isabella.howell@avcfamalicão.com', 'false', 'false'], ['emd20', '2019-12-28', 'Lela', 'Barnes', '31', 'F', 'Sultana', 'Karaté', 'EDViana', 'lela.barnes@edviana.name', 'false', 'true'], ['emd21', '2020-09-22', 'Eunice', 'Hunter', '33', 'F', 'Orick', 'Basquetebol', 'ACDRcrespos', 'eunice.hunter@acdrcrespos.info', 'false', 'true'], ['emd22', '2020-09-26', 'Samantha', 'Romero', '28', 'F', 'Gadsden', 'BTT', 'Vitoria', 'samantha.romero@vitoria.ca', 'false', 'true'], ['emd23', '2019-02-27', 'Langley', 'Mcbride', '29', 'F', 'Spelter', 'Equitação', 'AVCfamalicão', 'langley.mcbride@avcfamalicão.io', 'false', 'false'], ['emd24', '2021-02-25', 'Castro', 'Weber', '31', 'M', 'Greenfields', 'Basquetebol', 'EDViana', 'castro.weber@edviana.net', 'false', 'false'], ['emd25', '2019-09-29', 'Logan', 'Kane', '26', 'M', 'Vale', 'Basquetebol', 'AVCfamalicão', 'logan.kane@avcfamalicão.biz', 'true', 'true'], ['emd26', '2020-01-27', 'Ina', 'Robles', '34', 'F', 'Succasunna', 'Ciclismo', 'AmigosMontanha', 'ina.robles@amigosmontanha.org', 'true', 'false'], ['emd27', '2019-03-14', 'Laverne', 'Hays', '31', 'F', 'Coinjock', 'Badminton', 'ACRroriz', 'laverne.hays@acrroriz.biz', 'true', 'false'], ['emd28', '2019-01-28', 'Haley', 'Estes', '21', 'F', 'Basye', 'Futebol', 'AmigosMontanha', 'haley.estes@amigosmontanha.co.uk', 'false', 'true'], ['emd29', '2019-02-12', 'Munoz', 'Meyers', '32', 'F', 'Jackpot', 'BTT', 'GDGoma', 'munoz.meyers@gdgoma.me', 'true', 'true'], ['emd30', '2020-02-05', 'Vaughan', 'Herman', '29', 'M', 'Orason', 'Triatlo', 'Vitoria', 'vaughan.herman@vitoria.tv', 'false', 'true'], ['emd31', '2021-01-18', 'Freida', 'Mcneil', '32', 'M', 'Duryea', 'Patinagem', 'SCBraga', 'freida.mcneil@scbraga.com', 'false', 'false'], ['emd32', '2019-11-09', 'Emilia', 'Rosales', '32', 'F', 'Tivoli', 'Dança', 'ACRroriz', 'emilia.rosales@acrroriz.name', 'false', 'false'], ['emd33', '2020-11-03', 'Julianne', 'Powell', '29', 'F', 'Alleghenyville', 'Andebol', 'ACRroriz', 'julianne.powell@acrroriz.info', 'false', 'false'], ['emd34', '2020-05-03', 'Aisha', 'Riddle', '33', 'M', 'Holtville', 'Triatlo', 'EDViana', 'aisha.riddle@edviana.ca', 'true', 'true'], ['emd35', '2019-01-13', 'Elisa', 'Bernard', '26', 'F', 'Alfarata', 'Futebol', 'EDViana', 'elisa.bernard@edviana.io', 'false', 'true'], ['emd36', '2019-05-01', 'Freeman', 'Diaz', '24', 'F', 'Brutus', 'Esgrima', 'ABCbraga', 'freeman.diaz@abcbraga.net', 'true', 'false'], ['emd37', '2019-10-22', 'Dawson', 'Mayo', '25', 'M', 'Roland', 'Parapente', 'ACDRcrespos', 'dawson.mayo@acdrcrespos.biz', 'false', 'false'], ['emd38', '2019-05-30', 'Castaneda', 'Kennedy', '23', 'F', 'Sparkill', 'Equitação', 'Vitoria', 'castaneda.kennedy@vitoria.org', 'false', 'true'], ['emd39', '2020-02-28', 'Elma', 'Estrada', '32', 'F', 'Tetherow', 'Andebol', 'EDViana', 'elma.estrada@edviana.biz', 'true', 'true'], ['emd40', '2020-06-29', 'Miranda', 'Powers', '29', 'M', 'Soham', 'BTT', 'ACDRcrespos', 'miranda.powers@acdrcrespos.co.uk', 'true', 'false'], ['emd41', '2019-03-23', 'Rosalind', 'Michael', '21', 'F', 'Cloverdale', 'Dança', 'ACDRcrespos', 'rosalind.michael@acdrcrespos.me', 'true', 'true'], ['emd42', '2020-11-13', 'Hardin', 'Mejia', '35', 'M', 'Inkerman', 'Futebol', 'Vitoria', 'hardin.mejia@vitoria.tv', 'false', 'true'], ['emd43', '2019-09-15', 'Vivian', 'Pope', '32', 'M', 'Bayview', 'Parapente', 'ACRroriz', 'vivian.pope@acrroriz.com', 'true', 'true'], ['emd44', '2019-11-02', 'Vang', 'George', '35', 'F', 'Rivers', 'Atletismo', 'AVCfamalicão', 'vang.george@avcfamalicão.name', 'true', 'true'], ['emd45', '2020-02-09', 'Leanne', 'Barron', '24', 'F', 'Boling', 'Badminton', 'ABCbraga', 'leanne.barron@abcbraga.info', 'false', 'true'], ['emd46', '2020-01-26', 'Jeanie', 'Cantrell', '23', 'F', 'Nord', 'Ciclismo', 'EDViana', 'jeanie.cantrell@edviana.ca', 'false', 'true'], ['emd47', '2020-05-31', 'Lott', 'Robertson', '27', 'F', 'Hannasville', 'BTT', 'SCBraga', 'lott.robertson@scbraga.io', 'true', 'false'], ['emd48', '2019-07-15', 'Tami', 'Lawrence', '33', 'M', 'Crumpler', 'Andebol', 'AVCfamalicão', 'tami.lawrence@avcfamalicão.net', 'true', 'true'], ['emd49', '2019-09-24', 'Myrna', 'Guerrero', '21', 'F', 'Bentonville', 'Atletismo', 'Vitoria', 'myrna.guerrero@vitoria.biz', 'true', 'true'], ['emd50', '2019-05-27', 'Mari', 'Collier', '22', 'F', 'Magnolia', 'Basquetebol', 'EDViana', 'mari.collier@edviana.org', 'false', 'false'], ['emd51', '2019-02-04', 'Lisa', 'Ford', '23', 'M', 'Topanga', 'Equitação', 'AmigosMontanha', 'lisa.ford@amigosmontanha.biz', 'false', 'true'], ['emd52', '2020-07-03', 'Brigitte', 'Yates', '22', 'F', 'Crucible', 'Karaté', 'AVCfamalicão', 'brigitte.yates@avcfamalicão.co.uk', 'false', 'true'], ['emd53', '2020-12-17', 'Lora', 'Ward', '29', 'M', 'Chelsea', 'BTT', 'Vitoria', 'lora.ward@vitoria.me', 'false', 'true'], ['emd54', '2020-01-21', 'Robbins', 'Walsh', '30', 'F', 'Holcombe', 'BTT', 'Vitoria', 'robbins.walsh@vitoria.tv', 'true', 'true'], ['emd55', '2020-02-25', 'Kristina', 'Brock', '22', 'F', 'Carbonville', 'Esgrima', 'EDViana', 'kristina.brock@edviana.com', 'false', 'false'], ['emd56', '2020-12-28', 'Kathie', 'Preston', '23', 'F', 'Snyderville', 'Triatlo', 'AmigosMontanha', 'kathie.preston@amigosmontanha.name', 'true', 'false'], ['emd57', '2020-09-04', 'Hollie', 'Solis', '21', 'M', 'Edgewater', 'Futebol', 'Vitoria', 'hollie.solis@vitoria.info', 'false', 'false'], ['emd58', '2020-12-31', 'Maritza', 'Kaufman', '29', 'M', 'Hall', 'Karaté', 'ACRroriz', 'maritza.kaufman@acrroriz.ca', 'false', 'true'], ['emd59', '2019-10-25', 'Graciela', 'Carney', '28', 'M', 'Ilchester', 'Basquetebol', 'AmigosMontanha', 'graciela.carney@amigosmontanha.io', 'true', 'false'], ['emd60', '2019-03-12', 'Deirdre', 'Higgins', '31', 'M', 'Clayville', 'Ciclismo', 'SCBraga', 'deirdre.higgins@scbraga.net', 'false', 'true'], ['emd61', '2020-03-09', 'Wilson', 'Tucker', '27', 'M', 'Rutherford', 'Futebol', 'EDViana', 'wilson.tucker@edviana.biz', 'false', 'false'], ['emd62', '2019-06-10', 'Mcdowell', 'Church', '31', 'M', 'Yardville', 'Badminton', 'ACRroriz', 'mcdowell.church@acrroriz.org', 'true', 'true'], ['emd63', '2020-09-01', 'Marie', 'Craft', '28', 'F', 'Barstow', 'Atletismo', 'GDGoma', 'marie.craft@gdgoma.biz', 'true', 'true'], ['emd64', '2019-12-27', 'Robbie', 'Bailey', '23', 'F', 'Blende', 'BTT', 'AmigosMontanha', 'robbie.bailey@amigosmontanha.co.uk', 'false', 'false'], ['emd65', '2019-08-03', 'Chandra', 'Edwards', '24', 'M', 'Homestead', 'Futebol', 'ABCbraga', 'chandra.edwards@abcbraga.me', 'false', 'false'], ['emd66', '2020-11-07', 'Miller', 'Rojas', '35', 'M', 'Cherokee', 'Dança', 'ABCbraga', 'miller.rojas@abcbraga.tv', 'false', 'false'], ['emd67', '2020-02-27', 'Banks', 'Guerra', '34', 'M', 'Takilma', 'Ciclismo', 'SCBraga', 'banks.guerra@scbraga.com', 'false', 'false'], ['emd68', '2019-11-24', 'Carmella', 'Shaw', '23', 'M', 'Goldfield', 'BTT', 'SCBraga', 'carmella.shaw@scbraga.name', 'true', 'false'], ['emd69', '2019-09-09', 'Tania', 'Sargent', '27', 'M', 'Allentown', 'Basquetebol', 'AVCfamalicão', 'tania.sargent@avcfamalicão.info', 'false', 'false'], ['emd70', '2019-01-13', 'Agnes', 'Graham', '31', 'M', 'Hebron', 'Orientação', 'ABCbraga', 'agnes.graham@abcbraga.ca', 'false', 'false'], ['emd71', '2019-05-23', 'Kristi', 'Melton', '25', 'M', 'Mahtowa', 'Parapente', 'ABCbraga', 'kristi.melton@abcbraga.io', 'false', 'true'], ['emd72', '2020-09-26', 'Marsh', 'Crosby', '35', 'F', 'Northridge', 'Orientação', 'AVCfamalicão', 'marsh.crosby@avcfamalicão.net', 'false', 'true'], ['emd73', '2020-02-14', 'Jewel', 'Wagner', '30', 'F', 'Levant', 'Atletismo', 'ACRroriz', 'jewel.wagner@acrroriz.biz', 'false', 'true'], ['emd74', '2019-04-29', 'Leticia', 'Pena', '23', 'M', 'Osmond', 'Dança', 'SCBraga', 'leticia.pena@scbraga.org', 'false', 'true'], ['emd75', '2020-06-11', 'Simmons', 'Conway', '29', 'F', 'Greenock', 'Andebol', 'ACDRcrespos', 'simmons.conway@acdrcrespos.biz', 'true', 'true'], ['emd76', '2021-01-11', 'Fields', 'Colon', '32', 'F', 'Farmers', 'Parapente', 'Vitoria', 'fields.colon@vitoria.co.uk', 'true', 'true'], ['emd77', '2020-04-28', 'Kristen', 'Jacobs', '21', 'M', 'Bergoo', 'Karaté', 'AVCfamalicão', 'kristen.jacobs@avcfamalicão.me', 'true', 'false'], ['emd78', '2020-03-17', 'Mcdonald', 'Bender', '21', 'M', 'Belleview', 'Badminton', 'AmigosMontanha', 'mcdonald.bender@amigosmontanha.tv', 'false', 'true'], ['emd79', '2020-11-25', 'Emily', 'Webb', '34', 'F', 'Fairmount', 'Basquetebol', 'ACDRcrespos', 'emily.webb@acdrcrespos.com', 'true', 'true'], ['emd80', '2020-02-16', 'Walker', 'Wooten', '27', 'M', 'Chamberino', 'Atletismo', 'GDGoma', 'walker.wooten@gdgoma.name', 'true', 'false'], ['emd81', '2019-11-20', 'Villarreal', 'Walton', '23', 'F', 'Waterview', 'Andebol', 'AmigosMontanha', 'villarreal.walton@amigosmontanha.info', 'false', 'false'], ['emd82', '2020-12-04', 'Ashley', 'Rivers', '27', 'M', 'Joppa', 'Basquetebol', 'ACRroriz', 'ashley.rivers@acrroriz.ca', 'false', 'false'], ['emd83', '2019-10-15', 'Mcknight', 'Price', '24', 'M', 'Ticonderoga', 'Parapente', 'Vitoria', 'mcknight.price@vitoria.io', 'false', 'true'], ['emd84', '2019-10-13', 'Donna', 'Blevins', '22', 'F', 'Gratton', 'Equitação', 'GDGoma', 'donna.blevins@gdgoma.net', 'true', 'false'], ['emd85', '2020-06-17', 'Cantrell', 'Santos', '22', 'M', 'Belvoir', 'Dança', 'ACRroriz', 'cantrell.santos@acrroriz.biz', 'true', 'true'], ['emd86', '2019-09-07', 'Maldonado', 'Jefferson', '32', 'M', 'Coalmont', 'Basquetebol', 'EDViana', 'maldonado.jefferson@edviana.org', 'false', 'true'], ['emd87', '2019-04-16', 'Reva', 'Kirk', '28', 'F', 'Rosine', 'Ciclismo', 'EDViana', 'reva.kirk@edviana.biz', 'false', 'false'], ['emd88', '2019-07-17', 'Deann', 'Vargas', '30', 'F', 'Blanford', 'Dança', 'ACDRcrespos', 'deann.vargas@acdrcrespos.co.uk', 'false', 'false'], ['emd89', '2021-02-15', 'Nunez', 'Guy', '22', 'F', 'Crown', 'Equitação', 'SCBraga', 'nunez.guy@scbraga.me', 'true', 'true'], ['emd90', '2019-07-15', 'Sofia', 'Todd', '24', 'F', 'Vicksburg', 'Futebol', 'ABCbraga', 'sofia.todd@abcbraga.tv', 'false', 'true'], ['emd91', '2021-01-30', 'Fowler', 'Madden', '33', 'M', 'Sattley', 'Andebol', 'AVCfamalicão', 'fowler.madden@avcfamalicão.com', 'true', 'false'], ['emd92', '2019-12-11', 'Stone', 'Thomas', '30', 'M', 'Moquino', 'Triatlo', 'ACRroriz', 'stone.thomas@acrroriz.name', 'false', 'true'], ['emd93', '2021-01-13', 'Bowers', 'Gilliam', '35', 'F', 'Chestnut', 'Badminton', 'AVCfamalicão', 'bowers.gilliam@avcfamalicão.info', 'true', 'false'], ['emd94', '2019-11-19', 'Goldie', 'Mcgee', '25', 'F', 'Somerset', 'Ciclismo', 'AVCfamalicão', 'goldie.mcgee@avcfamalicão.ca', 'true', 'true'], ['emd95', '2019-08-13', 'May', 'French', '33', 'F', 'Kingstowne', 'Badminton', 'GDGoma', 'may.french@gdgoma.io', 'false', 'false'], ['emd96', '2020-06-03', 'Hester', 'Johnston', '26', 'M', 'Bannock', 'Badminton', 'ACRroriz', 'hester.johnston@acrroriz.net', 'true', 'false'], ['emd97', '2020-08-30', 'Kim', 'Combs', '35', 'M', 'Chase', 'Atletismo', 'SCBraga', 'kim.combs@scbraga.biz', 'false', 'false'], ['emd98', '2019-12-10', 'Elliott', 'Vaughan', '24', 'F', 'Morgandale', 'Futebol', 'GDGoma', 'elliott.vaughan@gdgoma.org', 'false', 'true'], ['emd99', '2020-02-19', 'Sherman', 'Lowery', '33', 'F', 'Lumberton', 'Basquetebol', 'AVCfamalicão', 'sherman.lowery@avcfamalicão.biz', 'false', 'true'], ['emd100', '2020-01-17', 'Peters', 'Emerson', '30', 'F', 'Bonanza', 'Dança', 'AmigosMontanha', 'peters.emerson@amigosmontanha.co.uk', 'false', 'false'], ['emd101', '2020-11-21', 'Osborne', 'Cox', '24', 'M', 'Caroline', 'Patinagem', 'ACDRcrespos', 'osborne.cox@acdrcrespos.me', 'true', 'false'], ['emd102', '2019-06-06', 'Hurley', 'Kaufman', '33', 'F', 'Ryderwood', 'Futebol', 'ACDRcrespos', 'hurley.kaufman@acdrcrespos.name', 'false', 'false'], ['emd103', '2020-11-27', 'Josefa', 'Valencia', '25', 'F', 'Dalton', 'Triatlo', 'AmigosMontanha', 'josefa.valencia@amigosmontanha.info', 'false', 'true'], ['emd104', '2020-07-21', 'Rhea', 'Wyatt', '32', 'F', 'Greensburg', 'Karaté', 'AmigosMontanha', 'rhea.wyatt@amigosmontanha.co.uk', 'false', 'false'], ['emd105', '2019-01-30', 'Jennifer', 'Morris', '26', 'F', 'Oretta', 'Dança', 'AmigosMontanha', 'jennifer.morris@amigosmontanha.us', 'false', 'false'], ['emd106', '2019-06-13', 'Annabelle', 'Duffy', '22', 'F', 'Summerset', 'Triatlo', 'AmigosMontanha', 'annabelle.duffy@amigosmontanha.biz', 'true', 'false'], ['emd107', '2020-12-28', 'Kramer', 'Acosta', '34', 'F', 'Dotsero', 'BTT', 'ABCbraga', 'kramer.acosta@abcbraga.net', 'false', 'false'], ['emd108', '2020-09-12', 'Foley', 'Pollard', '24', 'F', 'Oceola', 'Basquetebol', 'ACRroriz', 'foley.pollard@acrroriz.org', 'true', 'true'], ['emd109', '2020-10-30', 'Ivy', 'Sandoval', '28', 'F', 'Hebron', 'Esgrima', 'ACRroriz', 'ivy.sandoval@acrroriz.ca', 'false', 'true'], ['emd110', '2020-01-04', 'Lang', 'Farmer', '31', 'M', 'Farmington', 'BTT', 'ABCbraga', 'lang.farmer@abcbraga.io', 'true', 'true'], ['emd111', '2021-01-12', 'Frost', 'Dejesus', '33', 'M', 'Glidden', 'Orientação', 'Vitoria', 'frost.dejesus@vitoria.biz', 'true', 'true'], ['emd112', '2020-08-29', 'Livingston', 'Thomas', '28', 'M', 'Coalmont', 'Triatlo', 'ACDRcrespos', 'livingston.thomas@acdrcrespos.tv', 'true', 'true'], ['emd113', '2020-06-15', 'Wagner', 'Steele', '33', 'M', 'Hemlock', 'Orientação', 'EDViana', 'wagner.steele@edviana.me', 'true', 'true'], ['emd114', '2020-03-22', 'Stephenson', 'Cooke', '29', 'F', 'Glenbrook', 'Equitação', 'SCBraga', 'stephenson.cooke@scbraga.name', 'false', 'false'], ['emd115', '2019-06-01', 'Alberta', 'Talley', '32', 'M', 'Canterwood', 'Orientação', 'ABCbraga', 'alberta.talley@abcbraga.info', 'false', 'true'], ['emd116', '2019-08-11', 'Liza', 'Webb', '34', 'M', 'Linwood', 'Andebol', 'SCBraga', 'liza.webb@scbraga.co.uk', 'true', 'true'], ['emd117', '2019-12-17', 'Brooks', 'Gamble', '27', 'F', 'Belgreen', 'BTT', 'AVCfamalicão', 'brooks.gamble@avcfamalicão.us', 'false', 'false'], ['emd118', '2020-10-29', 'Blevins', 'Davenport', '28', 'M', 'Ladera', 'Ciclismo', 'Vitoria', 'blevins.davenport@vitoria.biz', 'false', 'true'], ['emd119', '2020-02-16', 'Shepard', 'Stevens', '26', 'F', 'Edinburg', 'Badminton', 'EDViana', 'shepard.stevens@edviana.net', 'true', 'false'], ['emd120', '2019-09-17', 'Nielsen', 'Tanner', '28', 'M', 'Roy', 'BTT', 'SCBraga', 'nielsen.tanner@scbraga.org', 'false', 'false'], ['emd121', '2020-02-27', 'Welch', 'Rosales', '34', 'M', 'Warren', 'Karaté', 'AmigosMontanha', 'welch.rosales@amigosmontanha.ca', 'true', 'true'], ['emd122', '2020-03-14', 'Park', 'Collier', '30', 'F', 'Como', 'Triatlo', 'SCBraga', 'park.collier@scbraga.io', 'false', 'true'], ['emd123', '2019-10-21', 'Louise', 'Weeks', '30', 'M', 'Crucible', 'Patinagem', 'SCBraga', 'louise.weeks@scbraga.biz', 'true', 'true'], ['emd124', '2020-07-08', 'Fox', 'Williams', '27', 'M', 'Eastmont', 'Futebol', 'SCBraga', 'fox.williams@scbraga.tv', 'false', 'false'], ['emd125', '2021-01-08', 'Woodard', 'Rhodes', '34', 'F', 'Coleville', 'Karaté', 'ABCbraga', 'woodard.rhodes@abcbraga.me', 'true', 'true'], ['emd126', '2020-05-22', 'Mclaughlin', 'Sargent', '31', 'M', 'Lowgap', 'Karaté', 'AmigosMontanha', 'mclaughlin.sargent@amigosmontanha.name', 'false', 'true'], ['emd127', '2019-11-22', 'Nadine', 'Nixon', '27', 'F', 'Iola', 'Orientação', 'GDGoma', 'nadine.nixon@gdgoma.info', 'true', 'false'], ['emd128', '2019-07-13', 'Tamera', 'Pierce', '23', 'M', 'Rowe', 'Parapente', 'AmigosMontanha', 'tamera.pierce@amigosmontanha.co.uk', 'true', 'true'], ['emd129', '2020-01-03', 'Isabella', 'Dickson', '26', 'M', 'Lodoga', 'Triatlo', 'ACRroriz', 'isabella.dickson@acrroriz.us', 'true', 'false'], ['emd130', '2019-07-18', 'Torres', 'Pittman', '28', 'F', 'Loma', 'Esgrima', 'ACRroriz', 'torres.pittman@acrroriz.biz', 'false', 'false'], ['emd131', '2020-06-20', 'Jody', 'Hart', '34', 'F', 'Falmouth', 'Badminton', 'ACRroriz', 'jody.hart@acrroriz.net', 'false', 'false'], ['emd132', '2020-03-24', 'Francis', 'Moran', '30', 'F', 'Englevale', 'Orientação', 'SCBraga', 'francis.moran@scbraga.org', 'true', 'false'], ['emd133', '2020-05-24', 'Anna', 'May', '28', 'F', 'Dante', 'BTT', 'ACDRcrespos', 'anna.may@acdrcrespos.ca', 'true', 'true'], ['emd134', '2020-05-04', 'Valeria', 'Kelly', '31', 'F', 'Whitestone', 'Karaté', 'ACRroriz', 'valeria.kelly@acrroriz.io', 'true', 'true'], ['emd135', '2020-09-04', 'Stanton', 'Barrera', '29', 'F', 'Clinton', 'BTT', 'GDGoma', 'stanton.barrera@gdgoma.biz', 'true', 'false'], ['emd136', '2019-07-13', 'Andrea', 'Hensley', '26', 'M', 'Lavalette', 'BTT', 'SCBraga', 'andrea.hensley@scbraga.tv', 'true', 'true'], ['emd137', '2020-04-01', 'Mabel', 'Faulkner', '22', 'M', 'Cucumber', 'Equitação', 'GDGoma', 'mabel.faulkner@gdgoma.me', 'false', 'false'], ['emd138', '2019-04-25', 'Nola', 'Wade', '28', 'F', 'Axis', 'Karaté', 'EDViana', 'nola.wade@edviana.name', 'false', 'true'], ['emd139', '2019-11-27', 'Charles', 'Bowman', '27', 'F', 'Cumberland', 'BTT', 'AmigosMontanha', 'charles.bowman@amigosmontanha.info', 'true', 'false'], ['emd140', '2020-04-06', 'Karen', 'Blanchard', '32', 'M', 'Shaft', 'Parapente', 'GDGoma', 'karen.blanchard@gdgoma.co.uk', 'false', 'false'], ['emd141', '2020-01-11', 'Shelton', 'Ingram', '32', 'M', 'Aurora', 'Patinagem', 'ABCbraga', 'shelton.ingram@abcbraga.us', 'true', 'false'], ['emd142', '2019-12-08', 'Gaines', 'Owens', '26', 'M', 'Calverton', 'Futebol', 'ACDRcrespos', 'gaines.owens@acdrcrespos.biz', 'true', 'false'], ['emd143', '2019-10-29', 'Schmidt', 'Hopper', '21', 'M', 'Aguila', 'Basquetebol', 'SCBraga', 'schmidt.hopper@scbraga.net', 'false', 'false'], ['emd144', '2020-10-18', 'Joann', 'Barnes', '31', 'F', 'Babb', 'Basquetebol', 'Vitoria', 'joann.barnes@vitoria.org', 'false', 'false'], ['emd145', '2019-05-24', 'Kent', 'Tyler', '22', 'F', 'Venice', 'BTT', 'ACRroriz', 'kent.tyler@acrroriz.ca', 'false', 'true'], ['emd146', '2020-05-11', 'Marsh', 'Jenkins', '23', 'M', 'Bowmansville', 'Karaté', 'ACDRcrespos', 'marsh.jenkins@acdrcrespos.io', 'false', 'true'], ['emd147', '2019-08-12', 'Gill', 'Fitzpatrick', '25', 'M', 'Gibbsville', 'Basquetebol', 'Vitoria', 'gill.fitzpatrick@vitoria.biz', 'false', 'true'], ['emd148', '2019-05-06', 'Staci', 'Jarvis', '34', 'M', 'Darlington', 'Atletismo', 'EDViana', 'staci.jarvis@edviana.tv', 'false', 'true'], ['emd149', '2020-04-18', 'Roberta', 'Montoya', '29', 'M', 'Lithium', 'Badminton', 'Vitoria', 'roberta.montoya@vitoria.me', 'true', 'false'], ['emd150', '2020-12-27', 'Karla', 'Marsh', '27', 'F', 'Rodanthe', 'Patinagem', 'ACRroriz', 'karla.marsh@acrroriz.name', 'false', 'false'], ['emd151', '2019-01-28', 'Virginia', 'Mcdowell', '22', 'F', 'Joes', 'Dança', 'SCBraga', 'virginia.mcdowell@scbraga.info', 'false', 'true'], ['emd152', '2020-09-26', 'Ana', 'Sharpe', '31', 'F', 'Floris', 'Orientação', 'AmigosMontanha', 'ana.sharpe@amigosmontanha.co.uk', 'false', 'true'], ['emd153', '2019-03-25', 'Newton', 'Zamora', '23', 'F', 'Watrous', 'Badminton', 'AVCfamalicão', 'newton.zamora@avcfamalicão.us', 'true', 'true'], ['emd154', '2021-01-22', 'Vivian', 'Mercado', '34', 'F', 'Sena', 'Badminton', 'AVCfamalicão', 'vivian.mercado@avcfamalicão.biz', 'false', 'true'], ['emd155', '2019-11-08', 'Lula', 'Whitaker', '24', 'M', 'Manila', 'Ciclismo', 'SCBraga', 'lula.whitaker@scbraga.net', 'false', 'false'], ['emd156', '2020-10-31', 'Lily', 'Marks', '29', 'F', 'Sunwest', 'Badminton', 'ACDRcrespos', 'lily.marks@acdrcrespos.org', 'true', 'true'], ['emd157', '2019-06-27', 'Watson', 'Robles', '27', 'M', 'Thermal', 'Dança', 'SCBraga', 'watson.robles@scbraga.ca', 'false', 'true'], ['emd158', '2019-11-05', 'Rojas', 'Bray', '29', 'M', 'Cliffside', 'BTT', 'SCBraga', 'rojas.bray@scbraga.io', 'false', 'true'], ['emd159', '2019-07-17', 'Burt', 'Wright', '31', 'F', 'Yogaville', 'Dança', 'ACRroriz', 'burt.wright@acrroriz.biz', 'true', 'false'], ['emd160', '2020-03-28', 'Jennie', 'Hawkins', '34', 'M', 'Dennard', 'BTT', 'ABCbraga', 'jennie.hawkins@abcbraga.tv', 'false', 'true'], ['emd161', '2020-07-24', 'Shields', 'Bean', '27', 'M', 'Dunlo', 'Ciclismo', 'Vitoria', 'shields.bean@vitoria.me', 'false', 'false'], ['emd162', '2020-11-11', 'Mclean', 'Reilly', '34', 'F', 'Bentonville', 'Esgrima', 'ABCbraga', 'mclean.reilly@abcbraga.name', 'true', 'false'], ['emd163', '2019-08-17', 'Hunter', 'Russo', '21', 'F', 'Noxen', 'Orientação', 'AmigosMontanha', 'hunter.russo@amigosmontanha.info', 'true', 'false'], ['emd164', '2019-10-21', 'Latonya', 'Lee', '33', 'M', 'Cascades', 'Futebol', 'ACRroriz', 'latonya.lee@acrroriz.co.uk', 'true', 'true'], ['emd165', '2020-06-03', 'Tami', 'Briggs', '24', 'M', 'Darrtown', 'Parapente', 'SCBraga', 'tami.briggs@scbraga.us', 'true', 'false'], ['emd166', '2019-11-24', 'Frank', 'Bishop', '35', 'F', 'Temperanceville', 'Triatlo', 'Vitoria', 'frank.bishop@vitoria.biz', 'false', 'false'], ['emd167', '2020-07-31', 'Tanisha', 'Castro', '35', 'F', 'Kaka', 'Parapente', 'ACDRcrespos', 'tanisha.castro@acdrcrespos.net', 'false', 'true'], ['emd168', '2020-03-23', 'Allen', 'Moon', '30', 'F', 'Convent', 'Triatlo', 'ACDRcrespos', 'allen.moon@acdrcrespos.org', 'false', 'true'], ['emd169', '2020-08-19', 'Pate', 'Davis', '28', 'M', 'Topaz', 'Equitação', 'GDGoma', 'pate.davis@gdgoma.ca', 'true', 'true'], ['emd170', '2019-02-04', 'Bishop', 'Valentine', '31', 'F', 'Graball', 'Orientação', 'AmigosMontanha', 'bishop.valentine@amigosmontanha.io', 'false', 'true'], ['emd171', '2019-01-26', 'Bianca', 'Prince', '24', 'M', 'Walland', 'Badminton', 'EDViana', 'bianca.prince@edviana.biz', 'true', 'true'], ['emd172', '2019-12-15', 'Ratliff', 'Medina', '22', 'M', 'Zarephath', 'Esgrima', 'GDGoma', 'ratliff.medina@gdgoma.tv', 'false', 'true'], ['emd173', '2020-07-19', 'Bernice', 'Bartlett', '28', 'F', 'Bentley', 'Basquetebol', 'ABCbraga', 'bernice.bartlett@abcbraga.me', 'true', 'true'], ['emd174', '2019-04-08', 'Hodge', 'Maxwell', '35', 'M', 'Yardville', 'Karaté', 'ACDRcrespos', 'hodge.maxwell@acdrcrespos.name', 'false', 'false'], ['emd175', '2019-11-14', 'Mathis', 'Miller', '27', 'F', 'Brooktrails', 'Basquetebol', 'EDViana', 'mathis.miller@edviana.info', 'true', 'false'], ['emd176', '2020-02-16', 'Foster', 'Randolph', '27', 'F', 'Sperryville', 'Basquetebol', 'SCBraga', 'foster.randolph@scbraga.co.uk', 'false', 'true'], ['emd177', '2020-02-25', 'Tammy', 'Maddox', '26', 'F', 'Chesterfield', 'Orientação', 'Vitoria', 'tammy.maddox@vitoria.us', 'true', 'false'], ['emd178', '2020-03-17', 'Madge', 'Daugherty', '30', 'F', 'Cartwright', 'Badminton', 'GDGoma', 'madge.daugherty@gdgoma.biz', 'false', 'false'], ['emd179', '2019-04-30', 'Alyssa', 'Melendez', '29', 'F', 'Austinburg', 'Dança', 'ACRroriz', 'alyssa.melendez@acrroriz.net', 'true', 'true'], ['emd180', '2019-08-22', 'Latisha', 'Cantrell', '25', 'F', 'Johnsonburg', 'Triatlo', 'ACRroriz', 'latisha.cantrell@acrroriz.org', 'true', 'true'], ['emd181', '2019-03-02', 'Anne', 'Petty', '33', 'F', 'Summertown', 'Parapente', 'SCBraga', 'anne.petty@scbraga.ca', 'true', 'true'], ['emd182', '2019-05-25', 'Faulkner', 'Baird', '22', 'F', 'Bawcomville', 'Parapente', 'AVCfamalicão', 'faulkner.baird@avcfamalicão.io', 'false', 'false'], ['emd183', '2020-11-12', 'Banks', 'Anderson', '28', 'F', 'Lookingglass', 'Parapente', 'SCBraga', 'banks.anderson@scbraga.biz', 'false', 'false'], ['emd184', '2020-08-09', 'Frazier', 'Aguilar', '21', 'F', 'Disautel', 'Esgrima', 'ACRroriz', 'frazier.aguilar@acrroriz.tv', 'false', 'false'], ['emd185', '2019-09-26', 'Combs', 'Rollins', '24', 'M', 'Dorneyville', 'Ciclismo', 'ACRroriz', 'combs.rollins@acrroriz.me', 'false', 'true'], ['emd186', '2020-07-14', 'House', 'Murphy', '28', 'M', 'Rose', 'Ciclismo', 'SCBraga', 'house.murphy@scbraga.name', 'true', 'true'], ['emd187', '2020-12-01', 'Ashlee', 'Beard', '23', 'F', 'Monument', 'Ciclismo', 'AVCfamalicão', 'ashlee.beard@avcfamalicão.info', 'true', 'false'], ['emd188', '2020-10-22', 'Leon', 'Schmidt', '29', 'F', 'Mooresburg', 'Triatlo', 'EDViana', 'leon.schmidt@edviana.co.uk', 'false', 'false'], ['emd189', '2021-01-20', 'Anita', 'Lyons', '35', 'M', 'Homeworth', 'Parapente', 'SCBraga', 'anita.lyons@scbraga.us', 'true', 'true'], ['emd190', '2020-12-03', 'Herrera', 'Wilder', '32', 'F', 'Virgie', 'Orientação', 'SCBraga', 'herrera.wilder@scbraga.biz', 'false', 'false'], ['emd191', '2020-04-14', 'Lindsay', 'Thompson', '21', 'F', 'Topanga', 'Andebol', 'GDGoma', 'lindsay.thompson@gdgoma.net', 'true', 'true'], ['emd192', '2020-12-30', 'Maynard', 'Erickson', '23', 'M', 'Harleigh', 'Atletismo', 'Vitoria', 'maynard.erickson@vitoria.org', 'false', 'false'], ['emd193', '2019-05-04', 'Flynn', 'York', '22', 'F', 'Forbestown', 'Andebol', 'Vitoria', 'flynn.york@vitoria.ca', 'true', 'true'], ['emd194', '2021-02-22', 'Larsen', 'Miles', '31', 'M', 'Dawn', 'Dança', 'EDViana', 'larsen.miles@edviana.io', 'true', 'false'], ['emd195', '2020-07-08', 'Stacey', 'Mills', '22', 'F', 'Rosedale', 'Esgrima', 'ACDRcrespos', 'stacey.mills@acdrcrespos.biz', 'true', 'false'], ['emd196', '2019-06-09', 'Stevenson', 'Perkins', '28', 'M', 'Hinsdale', 'Karaté', 'ACDRcrespos', 'stevenson.perkins@acdrcrespos.tv', 'true', 'true'], ['emd197', '2019-05-03', 'Velasquez', 'Barber', '22', 'M', 'Madaket', 'Equitação', 'AVCfamalicão', 'velasquez.barber@avcfamalicão.me', 'false', 'true'], ['emd198', '2019-07-03', 'Lawrence', 'Hahn', '31', 'F', 'Chase', 'Badminton', 'AVCfamalicão', 'lawrence.hahn@avcfamalicão.name', 'false', 'false'], ['emd199', '2020-03-15', 'Helen', 'Pruitt', '31', 'F', 'Camino', 'Triatlo', 'AmigosMontanha', 'helen.pruitt@amigosmontanha.info', 'true', 'false'], ['emd200', '2019-07-21', 'Wiley', 'Stark', '31', 'F', 'Fairlee', 'Futebol', 'EDViana', 'wiley.stark@edviana.co.uk', 'false', 'true'], ['emd201', '2020-05-31', 'Smith', 'Noel', '33', 'F', 'Gibbsville', 'Andebol', 'GDGoma', 'smith.noel@gdgoma.me', 'true', 'false'], ['emd202', '2020-08-09', 'Joseph', 'Schmidt', '25', 'F', 'Heil', 'Esgrima', 'ACDRcrespos', 'joseph.schmidt@acdrcrespos.org', 'false', 'false'], ['emd203', '2020-03-17', 'Frank', 'Schwartz', '27', 'F', 'Fairforest', 'Dança', 'GDGoma', 'frank.schwartz@gdgoma.net', 'false', 'false'], ['emd204', '2020-09-28', 'Patti', 'Osborne', '29', 'F', 'Camas', 'Dança', 'ACDRcrespos', 'patti.osborne@acdrcrespos.ca', 'false', 'true'], ['emd205', '2019-05-29', 'Frieda', 'Hansen', '32', 'F', 'Allamuchy', 'Ciclismo', 'GDGoma', 'frieda.hansen@gdgoma.co.uk', 'true', 'false'], ['emd206', '2019-01-12', 'Elena', 'Mcneil', '34', 'F', 'Bedias', 'Orientação', 'Vitoria', 'elena.mcneil@vitoria.us', 'false', 'true'], ['emd207', '2019-03-02', 'Dana', 'Morrison', '35', 'M', 'Bluffview', 'Atletismo', 'ACRroriz', 'dana.morrison@acrroriz.tv', 'true', 'true'], ['emd208', '2020-11-03', 'Vera', 'Scott', '29', 'M', 'Dante', 'Esgrima', 'AmigosMontanha', 'vera.scott@amigosmontanha.biz', 'false', 'true'], ['emd209', '2019-03-13', 'Kristen', 'Goodwin', '24', 'M', 'Sterling', 'Esgrima', 'GDGoma', 'kristen.goodwin@gdgoma.name', 'false', 'true'], ['emd210', '2020-03-01', 'Haley', 'Washington', '33', 'M', 'Bagtown', 'BTT', 'ACRroriz', 'haley.washington@acrroriz.biz', 'true', 'true'], ['emd211', '2020-11-13', 'Maryann', 'Workman', '26', 'M', 'Goochland', 'Orientação', 'ACRroriz', 'maryann.workman@acrroriz.io', 'true', 'true'], ['emd212', '2020-11-24', 'Alston', 'Richardson', '27', 'F', 'Edinburg', 'Triatlo', 'ACDRcrespos', 'alston.richardson@acdrcrespos.com', 'false', 'true'], ['emd213', '2020-03-30', 'Albert', 'Sweeney', '34', 'M', 'Coloma', 'BTT', 'GDGoma', 'albert.sweeney@gdgoma.me', 'false', 'true'], ['emd214', '2019-04-19', 'Christina', 'Hurley', '32', 'M', 'Odessa', 'Patinagem', 'ACDRcrespos', 'christina.hurley@acdrcrespos.org', 'false', 'true'], ['emd215', '2020-02-27', 'Petra', 'Leon', '32', 'M', 'Delshire', 'Equitação', 'EDViana', 'petra.leon@edviana.net', 'true', 'false'], ['emd216', '2020-02-03', 'Freda', 'Wooten', '30', 'F', 'Craig', 'Esgrima', 'GDGoma', 'freda.wooten@gdgoma.ca', 'false', 'true'], ['emd217', '2019-04-05', 'Avis', 'Craft', '26', 'F', 'Fairmount', 'Orientação', 'ACDRcrespos', 'avis.craft@acdrcrespos.co.uk', 'true', 'true'], ['emd218', '2019-09-20', 'Meagan', 'Le', '32', 'M', 'Helen', 'Atletismo', 'ACDRcrespos', 'meagan.le@acdrcrespos.us', 'true', 'true'], ['emd219', '2019-12-23', 'Jessie', 'Dyer', '30', 'F', 'Saranap', 'Patinagem', 'Vitoria', 'jessie.dyer@vitoria.tv', 'false', 'false'], ['emd220', '2019-07-09', 'Rhea', 'Patel', '23', 'F', 'Goldfield', 'BTT', 'Vitoria', 'rhea.patel@vitoria.biz', 'false', 'false'], ['emd221', '2019-10-19', 'Robles', 'Nelson', '30', 'F', 'Gorst', 'Futebol', 'AmigosMontanha', 'robles.nelson@amigosmontanha.name', 'false', 'false'], ['emd222', '2020-07-03', 'Stewart', 'Pugh', '24', 'M', 'Lacomb', 'Andebol', 'SCBraga', 'stewart.pugh@scbraga.biz', 'false', 'true'], ['emd223', '2019-01-23', 'Bowers', 'Conrad', '24', 'M', 'Graniteville', 'Ciclismo', 'ABCbraga', 'bowers.conrad@abcbraga.io', 'false', 'true'], ['emd224', '2020-03-31', 'Burch', 'Navarro', '22', 'M', 'Bowden', 'Basquetebol', 'Vitoria', 'burch.navarro@vitoria.com', 'true', 'true'], ['emd225', '2020-05-06', 'Pruitt', 'Ochoa', '31', 'F', 'Wedgewood', 'Karaté', 'AmigosMontanha', 'pruitt.ochoa@amigosmontanha.me', 'true', 'true'], ['emd226', '2019-02-02', 'Jackie', 'Garrison', '33', 'M', 'Cedarville', 'Ciclismo', 'ACDRcrespos', 'jackie.garrison@acdrcrespos.org', 'true', 'false'], ['emd227', '2019-07-21', 'Garrison', 'Evans', '33', 'M', 'Brandermill', 'Futebol', 'ABCbraga', 'garrison.evans@abcbraga.net', 'true', 'true'], ['emd228', '2020-02-04', 'Callie', 'Wynn', '31', 'M', 'Lorraine', 'Futebol', 'GDGoma', 'callie.wynn@gdgoma.ca', 'false', 'true'], ['emd229', '2021-03-02', 'Roberta', 'Joseph', '29', 'F', 'Weedville', 'Futebol', 'AmigosMontanha', 'roberta.joseph@amigosmontanha.co.uk', 'false', 'false'], ['emd230', '2019-05-23', 'Young', 'Estes', '23', 'M', 'Alden', 'Ciclismo', 'EDViana', 'young.estes@edviana.us', 'true', 'true'], ['emd231', '2019-11-04', 'Banks', 'Lyons', '26', 'F', 'Byrnedale', 'Karaté', 'AVCfamalicão', 'banks.lyons@avcfamalicão.tv', 'true', 'true'], ['emd232', '2019-05-16', 'Lela', 'Chan', '22', 'M', 'Cuylerville', 'Patinagem', 'SCBraga', 'lela.chan@scbraga.biz', 'true', 'false'], ['emd233', '2019-10-12', 'Harding', 'Hudson', '23', 'M', 'Sanders', 'Esgrima', 'AmigosMontanha', 'harding.hudson@amigosmontanha.name', 'false', 'false'], ['emd234', '2020-08-11', 'Crawford', 'Kelley', '32', 'F', 'Loomis', 'Badminton', 'AmigosMontanha', 'crawford.kelley@amigosmontanha.biz', 'false', 'false'], ['emd235', '2019-06-05', 'Celia', 'Rogers', '28', 'M', 'Windsor', 'Triatlo', 'AmigosMontanha', 'celia.rogers@amigosmontanha.io', 'false', 'false'], ['emd236', '2019-11-23', 'Kathryn', 'Maddox', '27', 'M', 'Hannasville', 'Patinagem', 'ABCbraga', 'kathryn.maddox@abcbraga.com', 'true', 'true'], ['emd237', '2019-12-26', 'Boyle', 'Lancaster', '25', 'M', 'Katonah', 'Triatlo', 'ACDRcrespos', 'boyle.lancaster@acdrcrespos.me', 'true', 'false'], ['emd238', '2019-09-04', 'Randall', 'Nichols', '26', 'M', 'Zeba', 'Orientação', 'EDViana', 'randall.nichols@edviana.org', 'true', 'true'], ['emd239', '2019-06-06', 'Eve', 'Kline', '31', 'F', 'Emerald', 'Badminton', 'ACDRcrespos', 'eve.kline@acdrcrespos.net', 'true', 'false'], ['emd240', '2019-10-08', 'Foreman', 'Tran', '27', 'F', 'Hollins', 'Equitação', 'ABCbraga', 'foreman.tran@abcbraga.ca', 'true', 'false'], ['emd241', '2021-01-26', 'Levine', 'Sampson', '21', 'F', 'Martinez', 'Basquetebol', 'Vitoria', 'levine.sampson@vitoria.co.uk', 'false', 'false'], ['emd242', '2019-05-19', 'Jacobs', 'Carroll', '27', 'M', 'Ripley', 'Andebol', 'AVCfamalicão', 'jacobs.carroll@avcfamalicão.us', 'true', 'true'], ['emd243', '2020-09-29', 'Price', 'Hardin', '35', 'M', 'Rodman', 'BTT', 'SCBraga', 'price.hardin@scbraga.tv', 'true', 'true'], ['emd244', '2019-09-28', 'Bell', 'Zimmerman', '24', 'M', 'Thomasville', 'Andebol', 'ABCbraga', 'bell.zimmerman@abcbraga.biz', 'false', 'false'], ['emd245', '2020-08-31', 'Lena', 'Lynch', '26', 'F', 'Makena', 'Badminton', 'AVCfamalicão', 'lena.lynch@avcfamalicão.name', 'false', 'true'], ['emd246', '2020-09-26', 'Summer', 'Spencer', '21', 'F', 'Rosburg', 'Andebol', 'ACRroriz', 'summer.spencer@acrroriz.biz', 'true', 'true'], ['emd247', '2019-08-04', 'Brock', 'Peterson', '31', 'M', 'Glasgow', 'Futebol', 'AmigosMontanha', 'brock.peterson@amigosmontanha.io', 'false', 'true'], ['emd248', '2019-02-25', 'Hood', 'Burks', '26', 'M', 'Nelson', 'Andebol', 'ACRroriz', 'hood.burks@acrroriz.com', 'false', 'false'], ['emd249', '2020-11-08', 'Letitia', 'Dean', '29', 'M', 'Berlin', 'Ciclismo', 'EDViana', 'letitia.dean@edviana.me', 'false', 'true'], ['emd250', '2019-05-24', 'Tanya', 'Ballard', '26', 'F', 'Norwood', 'Andebol', 'ABCbraga', 'tanya.ballard@abcbraga.org', 'true', 'true'], ['emd251', '2019-11-08', 'Blackburn', 'Price', '23', 'F', 'Iola', 'Andebol', 'ACRroriz', 'blackburn.price@acrroriz.net', 'true', 'false'], ['emd252', '2020-04-01', 'Kate', 'Woods', '23', 'F', 'Neibert', 'Atletismo', 'ACRroriz', 'kate.woods@acrroriz.ca', 'false', 'true'], ['emd253', '2020-01-24', 'Justice', 'Bryan', '34', 'F', 'Thornport', 'Triatlo', 'ACDRcrespos', 'justice.bryan@acdrcrespos.co.uk', 'false', 'true'], ['emd254', '2019-12-14', 'Gilbert', 'Harrison', '28', 'M', 'Stagecoach', 'Basquetebol', 'ABCbraga', 'gilbert.harrison@abcbraga.us', 'true', 'true'], ['emd255', '2020-09-28', 'Christa', 'Norris', '32', 'F', 'Levant', 'Basquetebol', 'ACRroriz', 'christa.norris@acrroriz.tv', 'false', 'true'], ['emd256', '2020-07-24', 'Dixon', 'Henry', '25', 'M', 'Grazierville', 'Ciclismo', 'ABCbraga', 'dixon.henry@abcbraga.biz', 'false', 'false'], ['emd257', '2020-04-10', 'Silvia', 'Ayala', '24', 'F', 'Macdona', 'BTT', 'ABCbraga', 'silvia.ayala@abcbraga.name', 'true', 'true'], ['emd258', '2020-11-15', 'Marci', 'Summers', '24', 'M', 'Monument', 'Ciclismo', 'SCBraga', 'marci.summers@scbraga.biz', 'false', 'false'], ['emd259', '2019-11-17', 'Powers', 'Torres', '31', 'M', 'Bakersville', 'BTT', 'ACRroriz', 'powers.torres@acrroriz.io', 'true', 'false'], ['emd260', '2019-11-05', 'Curtis', 'Curtis', '25', 'M', 'Coalmont', 'Karaté', 'AmigosMontanha', 'curtis.curtis@amigosmontanha.com', 'false', 'true'], ['emd261', '2019-12-11', 'Sheppard', 'Greer', '30', 'F', 'Navarre', 'Atletismo', 'AVCfamalicão', 'sheppard.greer@avcfamalicão.me', 'true', 'false'], ['emd262', '2020-10-08', 'Carmella', 'Lindsay', '26', 'M', 'Alafaya', 'Futebol', 'ACDRcrespos', 'carmella.lindsay@acdrcrespos.org', 'true', 'true'], ['emd263', '2019-11-14', 'Geneva', 'Barker', '33', 'M', 'Chamberino', 'Ciclismo', 'AmigosMontanha', 'geneva.barker@amigosmontanha.net', 'false', 'true'], ['emd264', '2020-03-24', 'Cassie', 'Kirk', '32', 'M', 'Templeton', 'Karaté', 'ACDRcrespos', 'cassie.kirk@acdrcrespos.ca', 'false', 'true'], ['emd265', '2019-12-30', 'Le', 'Blair', '26', 'F', 'Kersey', 'BTT', 'EDViana', 'le.blair@edviana.co.uk', 'true', 'true'], ['emd266', '2020-03-24', 'Dolores', 'Williams', '32', 'F', 'Marne', 'Dança', 'Vitoria', 'dolores.williams@vitoria.us', 'true', 'true'], ['emd267', '2019-01-25', 'Madeleine', 'Gould', '28', 'M', 'Osage', 'Karaté', 'ABCbraga', 'madeleine.gould@abcbraga.tv', 'true', 'false'], ['emd268', '2019-04-24', 'Farrell', 'Gilliam', '23', 'M', 'Taycheedah', 'Andebol', 'AVCfamalicão', 'farrell.gilliam@avcfamalicão.biz', 'false', 'true'], ['emd269', '2020-09-13', 'Evelyn', 'Grant', '25', 'F', 'Callaghan', 'Esgrima', 'GDGoma', 'evelyn.grant@gdgoma.name', 'false', 'true'], ['emd270', '2019-11-15', 'Decker', 'Allen', '26', 'F', 'Gilgo', 'Badminton', 'AmigosMontanha', 'decker.allen@amigosmontanha.biz', 'true', 'true'], ['emd271', '2020-05-21', 'Skinner', 'Mcintosh', '22', 'F', 'Lawrence', 'Triatlo', 'AmigosMontanha', 'skinner.mcintosh@amigosmontanha.io', 'false', 'false'], ['emd272', '2021-02-06', 'Stefanie', 'Byrd', '34', 'M', 'Bellfountain', 'Esgrima', 'EDViana', 'stefanie.byrd@edviana.com', 'true', 'false'], ['emd273', '2020-11-25', 'Blevins', 'Frost', '28', 'F', 'Comptche', 'Dança', 'EDViana', 'blevins.frost@edviana.me', 'true', 'false'], ['emd274', '2019-09-20', 'Ayers', 'Lara', '22', 'M', 'Layhill', 'Karaté', 'Vitoria', 'ayers.lara@vitoria.org', 'true', 'false'], ['emd275', '2019-05-31', 'Trujillo', 'Burke', '21', 'M', 'Gardiner', 'Triatlo', 'AVCfamalicão', 'trujillo.burke@avcfamalicão.net', 'false', 'true'], ['emd276', '2020-01-05', 'Garner', 'Reid', '31', 'M', 'Roeville', 'Karaté', 'ACRroriz', 'garner.reid@acrroriz.ca', 'false', 'true'], ['emd277', '2020-11-28', 'Esmeralda', 'Young', '32', 'F', 'Delwood', 'Dança', 'ACDRcrespos', 'esmeralda.young@acdrcrespos.co.uk', 'false', 'true'], ['emd278', '2019-01-17', 'Kramer', 'Mcclure', '22', 'F', 'Darbydale', 'Karaté', 'ABCbraga', 'kramer.mcclure@abcbraga.us', 'true', 'true'], ['emd279', '2019-11-16', 'Deanne', 'Stone', '26', 'M', 'Coral', 'Equitação', 'AVCfamalicão', 'deanne.stone@avcfamalicão.tv', 'false', 'true'], ['emd280', '2020-05-13', 'Jacqueline', 'Love', '23', 'F', 'Idamay', 'Andebol', 'ACDRcrespos', 'jacqueline.love@acdrcrespos.biz', 'false', 'false'], ['emd281', '2019-09-02', 'Holcomb', 'Mathis', '22', 'M', 'Boonville', 'Badminton', 'ACDRcrespos', 'holcomb.mathis@acdrcrespos.name', 'true', 'true'], ['emd282', '2019-08-03', 'Amalia', 'Flynn', '28', 'M', 'Morriston', 'Badminton', 'ACDRcrespos', 'amalia.flynn@acdrcrespos.biz', 'true', 'true'], ['emd283', '2019-09-27', 'Maria', 'Mcfadden', '25', 'F', 'Morgandale', 'Atletismo', 'Vitoria', 'maria.mcfadden@vitoria.io', 'true', 'false'], ['emd284', '2019-10-30', 'Landry', 'Kidd', '33', 'F', 'Grandview', 'Parapente', 'Vitoria', 'landry.kidd@vitoria.com', 'false', 'true'], ['emd285', '2019-06-21', 'Burton', 'Singleton', '27', 'M', 'Trucksville', 'Badminton', 'AmigosMontanha', 'burton.singleton@amigosmontanha.me', 'true', 'true'], ['emd286', '2020-04-28', 'Shaw', 'Yang', '33', 'F', 'Needmore', 'Dança', 'SCBraga', 'shaw.yang@scbraga.org', 'false', 'false'], ['emd287', '2019-11-23', 'Pacheco', 'Robbins', '21', 'M', 'Joes', 'Parapente', 'EDViana', 'pacheco.robbins@edviana.net', 'false', 'false'], ['emd288', '2019-09-26', 'Deana', 'Franco', '32', 'M', 'Robbins', 'Dança', 'EDViana', 'deana.franco@edviana.ca', 'false', 'false'], ['emd289', '2020-01-31', 'Velazquez', 'Meyers', '34', 'F', 'Dennard', 'Ciclismo', 'ACDRcrespos', 'velazquez.meyers@acdrcrespos.co.uk', 'false', 'true'], ['emd290', '2020-08-25', 'Roth', 'Booker', '33', 'F', 'Talpa', 'Patinagem', 'ACDRcrespos', 'roth.booker@acdrcrespos.us', 'true', 'false'], ['emd291', '2020-12-02', 'Chase', 'Chang', '27', 'F', 'Beaverdale', 'Dança', 'Vitoria', 'chase.chang@vitoria.tv', 'true', 'false'], ['emd292', '2019-04-02', 'Barr', 'Bell', '33', 'F', 'Hillsboro', 'Parapente', 'AVCfamalicão', 'barr.bell@avcfamalicão.biz', 'true', 'false'], ['emd293', '2019-12-13', 'Daniel', 'Mccormick', '27', 'F', 'Floriston', 'Badminton', 'EDViana', 'daniel.mccormick@edviana.name', 'false', 'true'], ['emd294', '2020-02-19', 'Lilian', 'Levine', '30', 'F', 'Alamo', 'Parapente', 'EDViana', 'lilian.levine@edviana.biz', 'true', 'true'], ['emd295', '2020-04-09', 'Cunningham', 'Curry', '24', 'M', 'Elwood', 'Ciclismo', 'ABCbraga', 'cunningham.curry@abcbraga.io', 'false', 'true'], ['emd296', '2020-11-24', 'Dalton', 'Chaney', '30', 'F', 'Yukon', 'Triatlo', 'ACDRcrespos', 'dalton.chaney@acdrcrespos.com', 'true', 'false'], ['emd297', '2020-03-14', 'Chrystal', 'Poole', '28', 'M', 'Thynedale', 'BTT', 'ACDRcrespos', 'chrystal.poole@acdrcrespos.me', 'false', 'true'], ['emd298', '2019-10-19', 'Joanne', 'Wise', '21', 'F', 'Gerber', 'Triatlo', 'ABCbraga', 'joanne.wise@abcbraga.org', 'true', 'false'], ['emd299', '2021-02-15', 'Douglas', 'Gay', '29', 'F', 'Lowgap', 'Atletismo', 'GDGoma', 'douglas.gay@gdgoma.net', 'true', 'true'], ['emd300', '2021-01-13', 'Glenn', 'Best', '27', 'M', 'Graball', 'BTT', 'AVCfamalicão', 'glenn.best@avcfamalicão.ca', 'true', 'true']]\n"
     ]
    }
   ],
   "source": [
    "BD = []\n",
    "BD = lerDataset(\"../algoritmos/emd.csv\")\n",
    "print(BD)"
   ]
  },
  {
   "cell_type": "markdown",
   "metadata": {},
   "source": [
    "## Listagem (exercício 2)\n",
    "\n",
    "Especifica uma função que faça a listagem no monitor dos vários registos de informação por ordem cronológica decrescente.\n",
    "\n",
    "Tenta dar a forma duma tabela em que as colunas têm todas a mesma dimensão."
   ]
  },
  {
   "cell_type": "code",
   "execution_count": 3,
   "metadata": {},
   "outputs": [
    {
     "name": "stdout",
     "output_type": "stream",
     "text": [
      "_id      dataEMD    nome          apto\n",
      "______________________________________\n",
      "emd229 | 2021-03-02|Roberta  Joseph | |false\n",
      "emd24 | 2021-02-25|Castro  Weber | |false\n",
      "emd194 | 2021-02-22|Larsen  Miles | |false\n",
      "emd89 | 2021-02-15|Nunez  Guy | |true\n",
      "emd299 | 2021-02-15|Douglas  Gay | |true\n",
      "emd272 | 2021-02-06|Stefanie  Byrd | |false\n",
      "emd91 | 2021-01-30|Fowler  Madden | |false\n",
      "emd241 | 2021-01-26|Levine  Sampson | |false\n",
      "emd154 | 2021-01-22|Vivian  Mercado | |true\n",
      "emd189 | 2021-01-20|Anita  Lyons | |true\n",
      "emd31 | 2021-01-18|Freida  Mcneil | |false\n",
      "emd93 | 2021-01-13|Bowers  Gilliam | |false\n",
      "emd300 | 2021-01-13|Glenn  Best | |true\n",
      "emd111 | 2021-01-12|Frost  Dejesus | |true\n",
      "emd76 | 2021-01-11|Fields  Colon | |true\n",
      "emd125 | 2021-01-08|Woodard  Rhodes | |true\n",
      "emd3 | 2021-01-06|Cheryl  Berger | |true\n",
      "emd58 | 2020-12-31|Maritza  Kaufman | |true\n",
      "emd192 | 2020-12-30|Maynard  Erickson | |false\n",
      "emd56 | 2020-12-28|Kathie  Preston | |false\n",
      "emd107 | 2020-12-28|Kramer  Acosta | |false\n",
      "emd150 | 2020-12-27|Karla  Marsh | |false\n",
      "emd53 | 2020-12-17|Lora  Ward | |true\n",
      "emd7 | 2020-12-11|Merrill  Maddox | |true\n",
      "emd9 | 2020-12-09|Lucia  Bright | |false\n",
      "emd82 | 2020-12-04|Ashley  Rivers | |false\n",
      "emd190 | 2020-12-03|Herrera  Wilder | |false\n",
      "emd291 | 2020-12-02|Chase  Chang | |false\n",
      "emd187 | 2020-12-01|Ashlee  Beard | |false\n",
      "emd277 | 2020-11-28|Esmeralda  Young | |true\n",
      "emd103 | 2020-11-27|Josefa  Valencia | |true\n",
      "emd79 | 2020-11-25|Emily  Webb | |true\n",
      "emd273 | 2020-11-25|Blevins  Frost | |false\n",
      "emd212 | 2020-11-24|Alston  Richardson | |true\n",
      "emd296 | 2020-11-24|Dalton  Chaney | |false\n",
      "emd101 | 2020-11-21|Osborne  Cox | |false\n",
      "emd4 | 2020-11-19|Graves  Goff | |false\n",
      "emd258 | 2020-11-15|Marci  Summers | |false\n",
      "emd42 | 2020-11-13|Hardin  Mejia | |true\n",
      "emd211 | 2020-11-13|Maryann  Workman | |true\n",
      "emd183 | 2020-11-12|Banks  Anderson | |false\n",
      "emd162 | 2020-11-11|Mclean  Reilly | |false\n",
      "emd249 | 2020-11-08|Letitia  Dean | |true\n",
      "emd66 | 2020-11-07|Miller  Rojas | |false\n",
      "emd33 | 2020-11-03|Julianne  Powell | |false\n",
      "emd208 | 2020-11-03|Vera  Scott | |true\n",
      "emd156 | 2020-10-31|Lily  Marks | |true\n",
      "emd109 | 2020-10-30|Ivy  Sandoval | |true\n",
      "emd118 | 2020-10-29|Blevins  Davenport | |true\n",
      "emd188 | 2020-10-22|Leon  Schmidt | |false\n",
      "emd144 | 2020-10-18|Joann  Barnes | |false\n",
      "emd262 | 2020-10-08|Carmella  Lindsay | |true\n",
      "emd243 | 2020-09-29|Price  Hardin | |true\n",
      "emd204 | 2020-09-28|Patti  Osborne | |true\n",
      "emd255 | 2020-09-28|Christa  Norris | |true\n",
      "emd22 | 2020-09-26|Samantha  Romero | |true\n",
      "emd72 | 2020-09-26|Marsh  Crosby | |true\n",
      "emd152 | 2020-09-26|Ana  Sharpe | |true\n",
      "emd246 | 2020-09-26|Summer  Spencer | |true\n",
      "emd21 | 2020-09-22|Eunice  Hunter | |true\n",
      "emd269 | 2020-09-13|Evelyn  Grant | |true\n",
      "emd108 | 2020-09-12|Foley  Pollard | |true\n",
      "emd57 | 2020-09-04|Hollie  Solis | |false\n",
      "emd135 | 2020-09-04|Stanton  Barrera | |false\n",
      "emd63 | 2020-09-01|Marie  Craft | |true\n",
      "emd245 | 2020-08-31|Lena  Lynch | |true\n",
      "emd97 | 2020-08-30|Kim  Combs | |false\n",
      "emd112 | 2020-08-29|Livingston  Thomas | |true\n",
      "emd290 | 2020-08-25|Roth  Booker | |false\n",
      "emd169 | 2020-08-19|Pate  Davis | |true\n",
      "emd234 | 2020-08-11|Crawford  Kelley | |false\n",
      "emd184 | 2020-08-09|Frazier  Aguilar | |false\n",
      "emd202 | 2020-08-09|Joseph  Schmidt | |false\n",
      "emd167 | 2020-07-31|Tanisha  Castro | |true\n",
      "emd161 | 2020-07-24|Shields  Bean | |false\n",
      "emd256 | 2020-07-24|Dixon  Henry | |false\n",
      "emd104 | 2020-07-21|Rhea  Wyatt | |false\n",
      "emd173 | 2020-07-19|Bernice  Bartlett | |true\n",
      "emd186 | 2020-07-14|House  Murphy | |true\n",
      "emd124 | 2020-07-08|Fox  Williams | |false\n",
      "emd195 | 2020-07-08|Stacey  Mills | |false\n",
      "emd52 | 2020-07-03|Brigitte  Yates | |true\n",
      "emd222 | 2020-07-03|Stewart  Pugh | |true\n",
      "emd40 | 2020-06-29|Miranda  Powers | |false\n",
      "emd131 | 2020-06-20|Jody  Hart | |false\n",
      "emd85 | 2020-06-17|Cantrell  Santos | |true\n",
      "emd113 | 2020-06-15|Wagner  Steele | |true\n",
      "emd75 | 2020-06-11|Simmons  Conway | |true\n",
      "emd96 | 2020-06-03|Hester  Johnston | |false\n",
      "emd165 | 2020-06-03|Tami  Briggs | |false\n",
      "emd47 | 2020-05-31|Lott  Robertson | |false\n",
      "emd201 | 2020-05-31|Smith  Noel | |false\n",
      "emd133 | 2020-05-24|Anna  May | |true\n",
      "emd126 | 2020-05-22|Mclaughlin  Sargent | |true\n",
      "emd271 | 2020-05-21|Skinner  Mcintosh | |false\n",
      "emd280 | 2020-05-13|Jacqueline  Love | |false\n",
      "emd146 | 2020-05-11|Marsh  Jenkins | |true\n",
      "emd225 | 2020-05-06|Pruitt  Ochoa | |true\n",
      "emd134 | 2020-05-04|Valeria  Kelly | |true\n",
      "emd34 | 2020-05-03|Aisha  Riddle | |true\n",
      "emd77 | 2020-04-28|Kristen  Jacobs | |false\n",
      "emd286 | 2020-04-28|Shaw  Yang | |false\n",
      "emd19 | 2020-04-19|Isabella  Howell | |false\n",
      "emd149 | 2020-04-18|Roberta  Montoya | |false\n",
      "emd191 | 2020-04-14|Lindsay  Thompson | |true\n",
      "emd257 | 2020-04-10|Silvia  Ayala | |true\n",
      "emd295 | 2020-04-09|Cunningham  Curry | |true\n",
      "emd140 | 2020-04-06|Karen  Blanchard | |false\n",
      "emd137 | 2020-04-01|Mabel  Faulkner | |false\n",
      "emd252 | 2020-04-01|Kate  Woods | |true\n",
      "emd224 | 2020-03-31|Burch  Navarro | |true\n",
      "emd213 | 2020-03-30|Albert  Sweeney | |true\n",
      "emd160 | 2020-03-28|Jennie  Hawkins | |true\n",
      "emd132 | 2020-03-24|Francis  Moran | |false\n",
      "emd264 | 2020-03-24|Cassie  Kirk | |true\n",
      "emd266 | 2020-03-24|Dolores  Williams | |true\n",
      "emd168 | 2020-03-23|Allen  Moon | |true\n",
      "emd114 | 2020-03-22|Stephenson  Cooke | |false\n",
      "emd16 | 2020-03-19|Sharon  Bradley | |false\n",
      "emd78 | 2020-03-17|Mcdonald  Bender | |true\n",
      "emd178 | 2020-03-17|Madge  Daugherty | |false\n",
      "emd203 | 2020-03-17|Frank  Schwartz | |false\n",
      "emd199 | 2020-03-15|Helen  Pruitt | |false\n",
      "emd122 | 2020-03-14|Park  Collier | |true\n",
      "emd297 | 2020-03-14|Chrystal  Poole | |true\n",
      "emd61 | 2020-03-09|Wilson  Tucker | |false\n",
      "emd210 | 2020-03-01|Haley  Washington | |true\n",
      "emd39 | 2020-02-28|Elma  Estrada | |true\n",
      "emd67 | 2020-02-27|Banks  Guerra | |false\n",
      "emd121 | 2020-02-27|Welch  Rosales | |true\n",
      "emd215 | 2020-02-27|Petra  Leon | |false\n",
      "emd1 | 2020-02-25|Delgado  Gay | |true\n",
      "emd55 | 2020-02-25|Kristina  Brock | |false\n",
      "emd177 | 2020-02-25|Tammy  Maddox | |false\n",
      "emd99 | 2020-02-19|Sherman  Lowery | |true\n",
      "emd294 | 2020-02-19|Lilian  Levine | |true\n",
      "emd80 | 2020-02-16|Walker  Wooten | |false\n",
      "emd119 | 2020-02-16|Shepard  Stevens | |false\n",
      "emd176 | 2020-02-16|Foster  Randolph | |true\n",
      "emd73 | 2020-02-14|Jewel  Wagner | |true\n",
      "emd45 | 2020-02-09|Leanne  Barron | |true\n",
      "emd30 | 2020-02-05|Vaughan  Herman | |true\n",
      "emd228 | 2020-02-04|Callie  Wynn | |true\n",
      "emd216 | 2020-02-03|Freda  Wooten | |true\n",
      "emd289 | 2020-01-31|Velazquez  Meyers | |true\n",
      "emd26 | 2020-01-27|Ina  Robles | |false\n",
      "emd10 | 2020-01-26|Faith  Wells | |true\n",
      "emd46 | 2020-01-26|Jeanie  Cantrell | |true\n",
      "emd253 | 2020-01-24|Justice  Bryan | |true\n",
      "emd54 | 2020-01-21|Robbins  Walsh | |true\n",
      "emd100 | 2020-01-17|Peters  Emerson | |false\n",
      "emd141 | 2020-01-11|Shelton  Ingram | |false\n",
      "emd276 | 2020-01-05|Garner  Reid | |true\n",
      "emd110 | 2020-01-04|Lang  Farmer | |true\n",
      "emd129 | 2020-01-03|Isabella  Dickson | |false\n",
      "emd265 | 2019-12-30|Le  Blair | |true\n",
      "emd20 | 2019-12-28|Lela  Barnes | |true\n",
      "emd64 | 2019-12-27|Robbie  Bailey | |false\n",
      "emd237 | 2019-12-26|Boyle  Lancaster | |false\n",
      "emd219 | 2019-12-23|Jessie  Dyer | |false\n",
      "emd117 | 2019-12-17|Brooks  Gamble | |false\n",
      "emd172 | 2019-12-15|Ratliff  Medina | |true\n",
      "emd254 | 2019-12-14|Gilbert  Harrison | |true\n",
      "emd293 | 2019-12-13|Daniel  Mccormick | |true\n",
      "emd92 | 2019-12-11|Stone  Thomas | |true\n",
      "emd261 | 2019-12-11|Sheppard  Greer | |false\n",
      "emd98 | 2019-12-10|Elliott  Vaughan | |true\n",
      "emd142 | 2019-12-08|Gaines  Owens | |false\n",
      "emd139 | 2019-11-27|Charles  Bowman | |false\n",
      "emd68 | 2019-11-24|Carmella  Shaw | |false\n",
      "emd166 | 2019-11-24|Frank  Bishop | |false\n",
      "emd236 | 2019-11-23|Kathryn  Maddox | |true\n",
      "emd287 | 2019-11-23|Pacheco  Robbins | |false\n",
      "emd127 | 2019-11-22|Nadine  Nixon | |false\n",
      "emd81 | 2019-11-20|Villarreal  Walton | |false\n",
      "emd94 | 2019-11-19|Goldie  Mcgee | |true\n",
      "emd259 | 2019-11-17|Powers  Torres | |false\n",
      "emd279 | 2019-11-16|Deanne  Stone | |true\n",
      "emd270 | 2019-11-15|Decker  Allen | |true\n",
      "emd175 | 2019-11-14|Mathis  Miller | |false\n",
      "emd263 | 2019-11-14|Geneva  Barker | |true\n",
      "emd32 | 2019-11-09|Emilia  Rosales | |false\n",
      "emd155 | 2019-11-08|Lula  Whitaker | |false\n",
      "emd251 | 2019-11-08|Blackburn  Price | |false\n",
      "emd158 | 2019-11-05|Rojas  Bray | |true\n",
      "emd260 | 2019-11-05|Curtis  Curtis | |true\n",
      "emd231 | 2019-11-04|Banks  Lyons | |true\n",
      "emd44 | 2019-11-02|Vang  George | |true\n",
      "emd284 | 2019-10-30|Landry  Kidd | |true\n",
      "emd143 | 2019-10-29|Schmidt  Hopper | |false\n",
      "emd59 | 2019-10-25|Graciela  Carney | |false\n",
      "emd37 | 2019-10-22|Dawson  Mayo | |false\n",
      "emd123 | 2019-10-21|Louise  Weeks | |true\n",
      "emd164 | 2019-10-21|Latonya  Lee | |true\n",
      "emd221 | 2019-10-19|Robles  Nelson | |false\n",
      "emd298 | 2019-10-19|Joanne  Wise | |false\n",
      "emd83 | 2019-10-15|Mcknight  Price | |true\n",
      "emd84 | 2019-10-13|Donna  Blevins | |false\n",
      "emd233 | 2019-10-12|Harding  Hudson | |false\n",
      "emd240 | 2019-10-08|Foreman  Tran | |false\n",
      "emd6 | 2019-10-07|Marla  Kelley | |false\n",
      "emd25 | 2019-09-29|Logan  Kane | |true\n",
      "emd244 | 2019-09-28|Bell  Zimmerman | |false\n",
      "emd283 | 2019-09-27|Maria  Mcfadden | |false\n",
      "emd185 | 2019-09-26|Combs  Rollins | |true\n",
      "emd288 | 2019-09-26|Deana  Franco | |false\n",
      "emd49 | 2019-09-24|Myrna  Guerrero | |true\n",
      "emd218 | 2019-09-20|Meagan  Le | |true\n",
      "emd274 | 2019-09-20|Ayers  Lara | |false\n",
      "emd120 | 2019-09-17|Nielsen  Tanner | |false\n",
      "emd43 | 2019-09-15|Vivian  Pope | |true\n",
      "emd69 | 2019-09-09|Tania  Sargent | |false\n",
      "emd12 | 2019-09-08|Valentine  Sellers | |true\n",
      "emd86 | 2019-09-07|Maldonado  Jefferson | |true\n",
      "emd238 | 2019-09-04|Randall  Nichols | |true\n",
      "emd281 | 2019-09-02|Holcomb  Mathis | |true\n",
      "emd5 | 2019-09-01|Mckay  Bolton | |false\n",
      "emd180 | 2019-08-22|Latisha  Cantrell | |true\n",
      "emd163 | 2019-08-17|Hunter  Russo | |false\n",
      "emd95 | 2019-08-13|May  French | |false\n",
      "emd147 | 2019-08-12|Gill  Fitzpatrick | |true\n",
      "emd116 | 2019-08-11|Liza  Webb | |true\n",
      "emd247 | 2019-08-04|Brock  Peterson | |true\n",
      "emd65 | 2019-08-03|Chandra  Edwards | |false\n",
      "emd282 | 2019-08-03|Amalia  Flynn | |true\n",
      "emd2 | 2019-07-31|Foreman  Prince | |true\n",
      "emd17 | 2019-07-30|Waters  Dale | |false\n",
      "emd18 | 2019-07-27|Rebekah  Mayer | |false\n",
      "emd200 | 2019-07-21|Wiley  Stark | |true\n",
      "emd227 | 2019-07-21|Garrison  Evans | |true\n",
      "emd130 | 2019-07-18|Torres  Pittman | |false\n",
      "emd88 | 2019-07-17|Deann  Vargas | |false\n",
      "emd159 | 2019-07-17|Burt  Wright | |false\n",
      "emd48 | 2019-07-15|Tami  Lawrence | |true\n",
      "emd90 | 2019-07-15|Sofia  Todd | |true\n",
      "emd128 | 2019-07-13|Tamera  Pierce | |true\n",
      "emd136 | 2019-07-13|Andrea  Hensley | |true\n",
      "emd220 | 2019-07-09|Rhea  Patel | |false\n",
      "emd198 | 2019-07-03|Lawrence  Hahn | |false\n",
      "emd157 | 2019-06-27|Watson  Robles | |true\n",
      "emd285 | 2019-06-21|Burton  Singleton | |true\n",
      "emd106 | 2019-06-13|Annabelle  Duffy | |false\n",
      "emd62 | 2019-06-10|Mcdowell  Church | |true\n",
      "emd196 | 2019-06-09|Stevenson  Perkins | |true\n",
      "emd102 | 2019-06-06|Hurley  Kaufman | |false\n",
      "emd239 | 2019-06-06|Eve  Kline | |false\n",
      "emd235 | 2019-06-05|Celia  Rogers | |false\n",
      "emd115 | 2019-06-01|Alberta  Talley | |true\n",
      "emd275 | 2019-05-31|Trujillo  Burke | |true\n",
      "emd38 | 2019-05-30|Castaneda  Kennedy | |true\n",
      "emd205 | 2019-05-29|Frieda  Hansen | |false\n",
      "emd50 | 2019-05-27|Mari  Collier | |false\n",
      "emd182 | 2019-05-25|Faulkner  Baird | |false\n",
      "emd145 | 2019-05-24|Kent  Tyler | |true\n",
      "emd250 | 2019-05-24|Tanya  Ballard | |true\n",
      "emd71 | 2019-05-23|Kristi  Melton | |true\n",
      "emd230 | 2019-05-23|Young  Estes | |true\n",
      "emd242 | 2019-05-19|Jacobs  Carroll | |true\n",
      "emd232 | 2019-05-16|Lela  Chan | |false\n",
      "emd13 | 2019-05-10|Martha  Hyde | |false\n",
      "emd148 | 2019-05-06|Staci  Jarvis | |true\n",
      "emd15 | 2019-05-05|Lester  Strong | |false\n",
      "emd193 | 2019-05-04|Flynn  York | |true\n",
      "emd197 | 2019-05-03|Velasquez  Barber | |true\n",
      "emd36 | 2019-05-01|Freeman  Diaz | |false\n",
      "emd179 | 2019-04-30|Alyssa  Melendez | |true\n",
      "emd74 | 2019-04-29|Leticia  Pena | |true\n",
      "emd138 | 2019-04-25|Nola  Wade | |true\n",
      "emd268 | 2019-04-24|Farrell  Gilliam | |true\n",
      "emd14 | 2019-04-22|Beck  Stevenson | |false\n",
      "emd214 | 2019-04-19|Christina  Hurley | |true\n",
      "emd87 | 2019-04-16|Reva  Kirk | |false\n",
      "emd174 | 2019-04-08|Hodge  Maxwell | |false\n",
      "emd217 | 2019-04-05|Avis  Craft | |true\n",
      "emd292 | 2019-04-02|Barr  Bell | |false\n",
      "emd11 | 2019-03-29|Milagros  Osborn | |false\n",
      "emd153 | 2019-03-25|Newton  Zamora | |true\n",
      "emd41 | 2019-03-23|Rosalind  Michael | |true\n",
      "emd27 | 2019-03-14|Laverne  Hays | |false\n",
      "emd209 | 2019-03-13|Kristen  Goodwin | |true\n",
      "emd8 | 2019-03-12|Nikki  Calderon | |false\n",
      "emd60 | 2019-03-12|Deirdre  Higgins | |true\n",
      "emd181 | 2019-03-02|Anne  Petty | |true\n",
      "emd207 | 2019-03-02|Dana  Morrison | |true\n",
      "emd23 | 2019-02-27|Langley  Mcbride | |false\n",
      "emd248 | 2019-02-25|Hood  Burks | |false\n",
      "emd29 | 2019-02-12|Munoz  Meyers | |true\n",
      "emd51 | 2019-02-04|Lisa  Ford | |true\n",
      "emd170 | 2019-02-04|Bishop  Valentine | |true\n",
      "emd226 | 2019-02-02|Jackie  Garrison | |false\n",
      "emd105 | 2019-01-30|Jennifer  Morris | |false\n",
      "emd28 | 2019-01-28|Haley  Estes | |true\n",
      "emd151 | 2019-01-28|Virginia  Mcdowell | |true\n",
      "emd171 | 2019-01-26|Bianca  Prince | |true\n",
      "emd267 | 2019-01-25|Madeleine  Gould | |false\n",
      "emd223 | 2019-01-23|Bowers  Conrad | |true\n",
      "emd278 | 2019-01-17|Kramer  Mcclure | |true\n",
      "emd35 | 2019-01-13|Elisa  Bernard | |true\n",
      "emd70 | 2019-01-13|Agnes  Graham | |false\n",
      "emd206 | 2019-01-12|Elena  Mcneil | |true\n"
     ]
    }
   ],
   "source": [
    "# Listagem da informação\n",
    "def chaveORD(a):\n",
    "    return a[1]\n",
    "def listarDataset(bd):\n",
    "    bd.sort(key=chaveORD, reverse=True)\n",
    "    print('_id      dataEMD    nome          apto')\n",
    "    print('______________________________________')\n",
    "    for elem in bd:\n",
    "        \n",
    "        print(elem[0] + \" | \"  + elem [1] + \"|\" + elem[2]+ \"  \" + elem[3] + \" | \" + '|' + elem[11])\n",
    "\n",
    "listarDataset(BD)"
   ]
  },
  {
   "cell_type": "markdown",
   "metadata": {},
   "source": [
    "## Consulta de um registo (exercício 3)\n",
    "\n",
    "Especifica uma função que, dado o id de um EMD, coloca a sua informação no monitor."
   ]
  },
  {
   "cell_type": "code",
   "execution_count": 4,
   "metadata": {},
   "outputs": [
    {
     "name": "stdout",
     "output_type": "stream",
     "text": [
      "Qual o id que deseja consultar?emd4\n",
      "['emd4', '2020-11-19', 'Graves', 'Goff', '29', 'F', 'Babb', 'Andebol', 'AVCfamalicão', 'graves.goff@avcfamalicão.co.uk', 'false', 'false']\n"
     ]
    }
   ],
   "source": [
    "# Consulta de um registo\n",
    "def consultarDataset(d, id):\n",
    "    i=0\n",
    "    for i in range(len(d)):\n",
    "        if d[i][0]==id:\n",
    "            print (d[i])\n",
    "id=input('Qual o id que deseja consultar?')\n",
    "consultarDataset(BD,id)"
   ]
  },
  {
   "cell_type": "markdown",
   "metadata": {},
   "source": [
    "## Modalidades (exercício 4)\n",
    "\n",
    "Especifica um função que dá como resultado uma lista de modalidades ordenada alfabeticamente e sem repetições."
   ]
  },
  {
   "cell_type": "code",
   "execution_count": 5,
   "metadata": {},
   "outputs": [
    {
     "data": {
      "text/plain": [
       "['Andebol',\n",
       " 'Atletismo',\n",
       " 'BTT',\n",
       " 'Badminton',\n",
       " 'Basquetebol',\n",
       " 'Ciclismo',\n",
       " 'Dança',\n",
       " 'Equitação',\n",
       " 'Esgrima',\n",
       " 'Futebol',\n",
       " 'Karaté',\n",
       " 'Orientação',\n",
       " 'Parapente',\n",
       " 'Patinagem',\n",
       " 'Triatlo']"
      ]
     },
     "execution_count": 5,
     "metadata": {},
     "output_type": "execute_result"
    }
   ],
   "source": [
    "def modalidades(d):\n",
    "    mod=[]\n",
    "    for elem in d:\n",
    "        if elem[7] not in mod:\n",
    "            mod.append(elem[7])\n",
    "    mod.sort()\n",
    "    return mod\n",
    "        \n",
    "modalidades(BD)"
   ]
  },
  {
   "cell_type": "markdown",
   "metadata": {},
   "source": [
    "## Distribuição por modalidade (exercício 5)\n",
    "\n",
    "Especifica uma função que dá como resultado uma lista de pares indicando quantos EMD estão registados em cada modalidade."
   ]
  },
  {
   "cell_type": "code",
   "execution_count": 15,
   "metadata": {},
   "outputs": [
    {
     "data": {
      "text/plain": [
       "{'Futebol': 21,\n",
       " 'Basquetebol': 24,\n",
       " 'Dança': 22,\n",
       " 'Equitação': 13,\n",
       " 'Atletismo': 16,\n",
       " 'Esgrima': 15,\n",
       " 'Andebol': 21,\n",
       " 'Badminton': 24,\n",
       " 'Parapente': 17,\n",
       " 'Patinagem': 14,\n",
       " 'BTT': 29,\n",
       " 'Orientação': 17,\n",
       " 'Karaté': 21,\n",
       " 'Triatlo': 23,\n",
       " 'Ciclismo': 23}"
      ]
     },
     "execution_count": 15,
     "metadata": {},
     "output_type": "execute_result"
    }
   ],
   "source": [
    "def distribPorModalidade(d):\n",
    "    distribuicao = {}\n",
    "    for elem in d:\n",
    "        if elem[7] in distribuicao.keys():\n",
    "            distribuicao[elem[7]]= distribuicao[elem[7]]+1\n",
    "        else:\n",
    "            distribuicao[elem[7]]=1\n",
    "    \n",
    "    return distribuicao\n",
    "\n",
    "distribPorModalidade(BD)"
   ]
  },
  {
   "cell_type": "markdown",
   "metadata": {},
   "source": [
    "## Distribuição por clubes (exercício 6)\n",
    "\n",
    "Especifica uma função que dá como resultado uma lista de pares indicando quantos EMD estão registados por cada clube."
   ]
  },
  {
   "cell_type": "code",
   "execution_count": 18,
   "metadata": {},
   "outputs": [
    {
     "data": {
      "text/plain": [
       "{'AmigosMontanha': 35,\n",
       " 'EDViana': 34,\n",
       " 'SCBraga': 34,\n",
       " 'GDGoma': 26,\n",
       " 'AVCfamalicão': 31,\n",
       " 'Vitoria': 32,\n",
       " 'ABCbraga': 30,\n",
       " 'ACRroriz': 37,\n",
       " 'ACDRcrespos': 41}"
      ]
     },
     "execution_count": 18,
     "metadata": {},
     "output_type": "execute_result"
    }
   ],
   "source": [
    "def distribPorClube(d):\n",
    "    distribuicaoC = {}\n",
    "    for elem in d:\n",
    "        if elem[8] in distribuicaoC.keys():\n",
    "            distribuicaoC[elem[8]]= distribuicaoC[elem[8]]+1\n",
    "        else:\n",
    "            distribuicaoC[elem[8]]=1\n",
    "    \n",
    "    return distribuicaoC\n",
    "\n",
    "distribPorClube(BD)"
   ]
  },
  {
   "cell_type": "markdown",
   "metadata": {},
   "source": [
    "## Distribuição por ano (exercício 7)\n",
    "\n",
    "Especifica uma função que dá como resultado uma lista de pares indicando quantos EMD estão registados por cada ano."
   ]
  },
  {
   "cell_type": "code",
   "execution_count": 19,
   "metadata": {},
   "outputs": [
    {
     "data": {
      "text/plain": [
       "{'2021': 17, '2020': 138, '2019': 145}"
      ]
     },
     "execution_count": 19,
     "metadata": {},
     "output_type": "execute_result"
    }
   ],
   "source": [
    "def distribPorAno(d):\n",
    "    distribuicaoA = {}\n",
    "    for elem in d:\n",
    "        if elem[1][:4] in distribuicaoA.keys():\n",
    "            distribuicaoA[elem[1][:4]]= distribuicaoA[elem[1][:4]]+1\n",
    "        else:\n",
    "            distribuicaoA[elem[1][:4]]=1\n",
    "    \n",
    "    return distribuicaoA\n",
    "\n",
    "distribPorAno(BD)"
   ]
  },
  {
   "cell_type": "markdown",
   "metadata": {},
   "source": [
    "## Distribuição parametrizada (exercício 8)\n",
    "\n",
    "Especifica uma função que permita calcular uma distribuição por qualquer um dos campos da BD."
   ]
  },
  {
   "cell_type": "code",
   "execution_count": null,
   "metadata": {},
   "outputs": [],
   "source": [
    "def distrib(d):\n",
    "    \n",
    "    "
   ]
  },
  {
   "cell_type": "markdown",
   "metadata": {},
   "source": [
    "# Gráficos\n",
    "\n",
    "## Gráfico da distribuição por curso (exercício 8)\n",
    "\n",
    "Especifica uma função que faz o plot dum gráfico com a distribuição de alunos por modalidade."
   ]
  },
  {
   "cell_type": "code",
   "execution_count": null,
   "metadata": {},
   "outputs": [],
   "source": [
    "def plotDistribPorModalidade(???):\n",
    "    # Escreve aqui o teu código"
   ]
  },
  {
   "cell_type": "markdown",
   "metadata": {},
   "source": [
    "## Gráfico duma distribuição qualquer (exercício 9)\n",
    "\n",
    "Especifica uma função que faz o plot dum gráfico com a distribuição passada como argumento.\n",
    "\n",
    "Nota: Que parâmetros são necessários para ter uma função genérica que trace o gráfico para qualquer distribuição?\n"
   ]
  },
  {
   "cell_type": "code",
   "execution_count": null,
   "metadata": {},
   "outputs": [],
   "source": [
    "def plotDistrib(???):\n",
    "    # Escreve aqui o teu código"
   ]
  },
  {
   "cell_type": "code",
   "execution_count": null,
   "metadata": {},
   "outputs": [],
   "source": [
    "TPC Criar um módulo emd.py \n",
    "Carregar base de dados - aparece(Foram carregados x registos)\n",
    "listar \n",
    "distribuicao modalidades - texto\n",
    "distribuição ano - graficos\n",
    "distribuição clube - graficos\n"
   ]
  }
 ],
 "metadata": {
  "interpreter": {
   "hash": "aee8b7b246df8f9039afb4144a1f6fd8d2ca17a180786b69acc140d282b71a49"
  },
  "kernelspec": {
   "display_name": "Python 3",
   "language": "python",
   "name": "python3"
  },
  "language_info": {
   "codemirror_mode": {
    "name": "ipython",
    "version": 3
   },
   "file_extension": ".py",
   "mimetype": "text/x-python",
   "name": "python",
   "nbconvert_exporter": "python",
   "pygments_lexer": "ipython3",
   "version": "3.8.3"
  }
 },
 "nbformat": 4,
 "nbformat_minor": 2
}
